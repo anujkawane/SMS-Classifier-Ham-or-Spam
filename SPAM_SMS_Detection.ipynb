{
  "cells": [
    {
      "cell_type": "markdown",
      "source": [
        "Instruction to run the notebook:\n",
        "1. Download spam.csv with the link https://drive.google.com/file/d/1psCRF8VgjYvathAROxCoGQIo95HEBRIy/view?usp=sharing \n",
        "\n",
        "2. Download glove.6B.100d.txt with the link https://drive.google.com/file/d/1lpdPI_wwaSUyezQJnhH00sunlL285e1d/view?usp=sharing \n",
        "\n",
        "3. Upload it in the files section in Google collab and Run all cells.\n",
        "\n",
        "It can take upto 2-3 hours to run all the cells."
      ],
      "metadata": {
        "id": "rh_5xHATH11D"
      },
      "id": "rh_5xHATH11D"
    },
    {
      "cell_type": "code",
      "execution_count": null,
      "id": "3413b510",
      "metadata": {
        "id": "3413b510"
      },
      "outputs": [],
      "source": [
        "#Importing all the libraries to be used\n",
        "import warnings\n",
        "import matplotlib.pyplot as plt\n",
        "import seaborn as sns\n",
        "import numpy as np \n",
        "import pandas as pd\n",
        "import re\n",
        "import nltk\n",
        "import sklearn\n",
        "from nltk.corpus import stopwords\n",
        "from nltk.stem.porter import PorterStemmer\n",
        "from nltk.stem import WordNetLemmatizer\n",
        "from sklearn.feature_extraction.text import TfidfVectorizer\n",
        "from sklearn.preprocessing import LabelEncoder\n",
        "from sklearn.model_selection import train_test_split\n",
        "from sklearn.pipeline import Pipeline    \n",
        "from sklearn.naive_bayes import MultinomialNB\n",
        "from sklearn.ensemble import RandomForestClassifier\n",
        "from sklearn.neighbors import KNeighborsClassifier\n",
        "from sklearn.svm import SVC\n",
        "from sklearn.model_selection import cross_val_score\n",
        "from matplotlib.colors import ListedColormap\n",
        "from sklearn.metrics import precision_score, recall_score, plot_confusion_matrix, classification_report, accuracy_score, f1_score\n",
        "from sklearn import metrics\n",
        "import xgboost\n",
        "\n",
        "import keras\n",
        "from keras.models import Sequential\n",
        "from keras.initializers import Constant\n",
        "from keras.layers import LSTM, Embedding,BatchNormalization, Dense, TimeDistributed, Dropout, Bidirectional, Flatten, GlobalMaxPool1D\n",
        "from keras.preprocessing.text import Tokenizer\n",
        "from keras.preprocessing.sequence import pad_sequences\n",
        "from keras.layers.embeddings import Embedding\n",
        "from keras.callbacks import ModelCheckpoint, ReduceLROnPlateau\n",
        "from tensorflow.keras.optimizers import Adam\n"
      ]
    },
    {
      "cell_type": "code",
      "execution_count": null,
      "id": "f5c5a2e9",
      "metadata": {
        "id": "f5c5a2e9"
      },
      "outputs": [],
      "source": [
        "warnings.filterwarnings('ignore')"
      ]
    },
    {
      "cell_type": "code",
      "execution_count": null,
      "id": "a938d48d",
      "metadata": {
        "colab": {
          "base_uri": "https://localhost:8080/"
        },
        "id": "a938d48d",
        "outputId": "024d3653-287c-43d5-a748-b6cf32631b27"
      },
      "outputs": [
        {
          "output_type": "stream",
          "name": "stdout",
          "text": [
            "<class 'pandas.core.frame.DataFrame'>\n",
            "RangeIndex: 5572 entries, 0 to 5571\n",
            "Data columns (total 5 columns):\n",
            " #   Column      Non-Null Count  Dtype \n",
            "---  ------      --------------  ----- \n",
            " 0   v1          5572 non-null   object\n",
            " 1   v2          5572 non-null   object\n",
            " 2   Unnamed: 2  50 non-null     object\n",
            " 3   Unnamed: 3  12 non-null     object\n",
            " 4   Unnamed: 4  6 non-null      object\n",
            "dtypes: object(5)\n",
            "memory usage: 217.8+ KB\n"
          ]
        }
      ],
      "source": [
        "#Loading data\n",
        "data = pd.read_csv('spam.csv', encoding='ISO-8859-1')\n",
        "data.info()"
      ]
    },
    {
      "cell_type": "code",
      "execution_count": null,
      "id": "dd8f3f7c",
      "metadata": {
        "colab": {
          "base_uri": "https://localhost:8080/"
        },
        "id": "dd8f3f7c",
        "outputId": "fb1701eb-eb78-4c8a-be48-8898cc3457f4"
      },
      "outputs": [
        {
          "output_type": "execute_result",
          "data": {
            "text/plain": [
              "<bound method NDFrame.head of      Target                                               Text\n",
              "0       ham  Go until jurong point, crazy.. Available only ...\n",
              "1       ham                      Ok lar... Joking wif u oni...\n",
              "2      spam  Free entry in 2 a wkly comp to win FA Cup fina...\n",
              "3       ham  U dun say so early hor... U c already then say...\n",
              "4       ham  Nah I don't think he goes to usf, he lives aro...\n",
              "...     ...                                                ...\n",
              "5567   spam  This is the 2nd time we have tried 2 contact u...\n",
              "5568    ham              Will Ì_ b going to esplanade fr home?\n",
              "5569    ham  Pity, * was in mood for that. So...any other s...\n",
              "5570    ham  The guy did some bitching but I acted like i'd...\n",
              "5571    ham                         Rofl. Its true to its name\n",
              "\n",
              "[5572 rows x 2 columns]>"
            ]
          },
          "metadata": {},
          "execution_count": 6
        }
      ],
      "source": [
        "# Dropping the redundent looking collumns (for this project)\n",
        "to_drop = [\"Unnamed: 2\",\"Unnamed: 3\",\"Unnamed: 4\"]\n",
        "data = data.drop(data[to_drop], axis=1)\n",
        "# Renaming the columns because I feel fancy today \n",
        "data.rename(columns = {\"v1\":\"Target\", \"v2\":\"Text\"}, inplace = True)\n",
        "data.head"
      ]
    },
    {
      "cell_type": "code",
      "execution_count": null,
      "id": "f87b3958",
      "metadata": {
        "colab": {
          "base_uri": "https://localhost:8080/"
        },
        "id": "f87b3958",
        "outputId": "e083bd79-4a86-46c9-ca83-b02a8e75b332"
      },
      "outputs": [
        {
          "output_type": "execute_result",
          "data": {
            "text/plain": [
              "(5572, 2)"
            ]
          },
          "metadata": {},
          "execution_count": 7
        }
      ],
      "source": [
        "data.shape"
      ]
    },
    {
      "cell_type": "markdown",
      "id": "fefc1bbd",
      "metadata": {
        "id": "fefc1bbd"
      },
      "source": [
        "EDA"
      ]
    },
    {
      "cell_type": "code",
      "execution_count": null,
      "id": "79031a99",
      "metadata": {
        "colab": {
          "base_uri": "https://localhost:8080/"
        },
        "id": "79031a99",
        "outputId": "d460f7ce-b091-459a-9592-dbace1c150bc"
      },
      "outputs": [
        {
          "output_type": "execute_result",
          "data": {
            "text/plain": [
              "Target\n",
              "ham     4825\n",
              "spam     747\n",
              "Name: Target, dtype: int64"
            ]
          },
          "metadata": {},
          "execution_count": 8
        }
      ],
      "source": [
        "balance_counts = data.groupby('Target')['Target'].agg('count')\n",
        "balance_counts"
      ]
    },
    {
      "cell_type": "code",
      "source": [
        "# Count the number of words in the message\n",
        "data[\"num_words\"] = data[\"Text\"].apply(lambda s: len(re.findall(r'\\w+', s)))\n",
        "\n",
        "# Get the length of the text message\n",
        "data[\"message_len\"] = data[\"Text\"].apply(len)\n",
        "\n",
        "# Count the number of uppercased characters\n",
        "data[\"num_uppercase_chars\"] = data[\"Text\"].apply(lambda s: sum(1 for c in s if c.isupper())) \n",
        "\n",
        "# Count the numbe rof uppercased words\n",
        "data[\"num_uppercase_words\"] = data[\"Text\"].apply(lambda s: len(re.findall(r\"\\b[A-Z][A-Z]+\\b\", s)))\n",
        "\n",
        "# Check if the message contains the word \"free\" or \"win\"\n",
        "data[\"contains_free_or_win\"] = data[\"Text\"].apply(lambda s: int(\"free\" in s.lower() or \"win\" in s.lower()))"
      ],
      "metadata": {
        "id": "y1mWONVy-wbn"
      },
      "id": "y1mWONVy-wbn",
      "execution_count": null,
      "outputs": []
    },
    {
      "cell_type": "code",
      "source": [
        "data.head()"
      ],
      "metadata": {
        "colab": {
          "base_uri": "https://localhost:8080/",
          "height": 320
        },
        "id": "1qOEfXc6-96B",
        "outputId": "a950ce4f-5295-41a5-e4de-3809c8d02ce5"
      },
      "id": "1qOEfXc6-96B",
      "execution_count": null,
      "outputs": [
        {
          "output_type": "execute_result",
          "data": {
            "text/plain": [
              "  Target                                               Text  num_words  \\\n",
              "0    ham  Go until jurong point, crazy.. Available only ...         20   \n",
              "1    ham                      Ok lar... Joking wif u oni...          6   \n",
              "2   spam  Free entry in 2 a wkly comp to win FA Cup fina...         33   \n",
              "3    ham  U dun say so early hor... U c already then say...         11   \n",
              "4    ham  Nah I don't think he goes to usf, he lives aro...         14   \n",
              "\n",
              "   message_len  num_uppercase_chars  num_uppercase_words  contains_free_or_win  \n",
              "0          111                    3                    0                     0  \n",
              "1           29                    2                    0                     0  \n",
              "2          155                   10                    2                     1  \n",
              "3           49                    2                    0                     0  \n",
              "4           61                    2                    0                     0  "
            ],
            "text/html": [
              "\n",
              "  <div id=\"df-982b81aa-72ce-4654-bed2-d50b1a101f57\">\n",
              "    <div class=\"colab-df-container\">\n",
              "      <div>\n",
              "<style scoped>\n",
              "    .dataframe tbody tr th:only-of-type {\n",
              "        vertical-align: middle;\n",
              "    }\n",
              "\n",
              "    .dataframe tbody tr th {\n",
              "        vertical-align: top;\n",
              "    }\n",
              "\n",
              "    .dataframe thead th {\n",
              "        text-align: right;\n",
              "    }\n",
              "</style>\n",
              "<table border=\"1\" class=\"dataframe\">\n",
              "  <thead>\n",
              "    <tr style=\"text-align: right;\">\n",
              "      <th></th>\n",
              "      <th>Target</th>\n",
              "      <th>Text</th>\n",
              "      <th>num_words</th>\n",
              "      <th>message_len</th>\n",
              "      <th>num_uppercase_chars</th>\n",
              "      <th>num_uppercase_words</th>\n",
              "      <th>contains_free_or_win</th>\n",
              "    </tr>\n",
              "  </thead>\n",
              "  <tbody>\n",
              "    <tr>\n",
              "      <th>0</th>\n",
              "      <td>ham</td>\n",
              "      <td>Go until jurong point, crazy.. Available only ...</td>\n",
              "      <td>20</td>\n",
              "      <td>111</td>\n",
              "      <td>3</td>\n",
              "      <td>0</td>\n",
              "      <td>0</td>\n",
              "    </tr>\n",
              "    <tr>\n",
              "      <th>1</th>\n",
              "      <td>ham</td>\n",
              "      <td>Ok lar... Joking wif u oni...</td>\n",
              "      <td>6</td>\n",
              "      <td>29</td>\n",
              "      <td>2</td>\n",
              "      <td>0</td>\n",
              "      <td>0</td>\n",
              "    </tr>\n",
              "    <tr>\n",
              "      <th>2</th>\n",
              "      <td>spam</td>\n",
              "      <td>Free entry in 2 a wkly comp to win FA Cup fina...</td>\n",
              "      <td>33</td>\n",
              "      <td>155</td>\n",
              "      <td>10</td>\n",
              "      <td>2</td>\n",
              "      <td>1</td>\n",
              "    </tr>\n",
              "    <tr>\n",
              "      <th>3</th>\n",
              "      <td>ham</td>\n",
              "      <td>U dun say so early hor... U c already then say...</td>\n",
              "      <td>11</td>\n",
              "      <td>49</td>\n",
              "      <td>2</td>\n",
              "      <td>0</td>\n",
              "      <td>0</td>\n",
              "    </tr>\n",
              "    <tr>\n",
              "      <th>4</th>\n",
              "      <td>ham</td>\n",
              "      <td>Nah I don't think he goes to usf, he lives aro...</td>\n",
              "      <td>14</td>\n",
              "      <td>61</td>\n",
              "      <td>2</td>\n",
              "      <td>0</td>\n",
              "      <td>0</td>\n",
              "    </tr>\n",
              "  </tbody>\n",
              "</table>\n",
              "</div>\n",
              "      <button class=\"colab-df-convert\" onclick=\"convertToInteractive('df-982b81aa-72ce-4654-bed2-d50b1a101f57')\"\n",
              "              title=\"Convert this dataframe to an interactive table.\"\n",
              "              style=\"display:none;\">\n",
              "        \n",
              "  <svg xmlns=\"http://www.w3.org/2000/svg\" height=\"24px\"viewBox=\"0 0 24 24\"\n",
              "       width=\"24px\">\n",
              "    <path d=\"M0 0h24v24H0V0z\" fill=\"none\"/>\n",
              "    <path d=\"M18.56 5.44l.94 2.06.94-2.06 2.06-.94-2.06-.94-.94-2.06-.94 2.06-2.06.94zm-11 1L8.5 8.5l.94-2.06 2.06-.94-2.06-.94L8.5 2.5l-.94 2.06-2.06.94zm10 10l.94 2.06.94-2.06 2.06-.94-2.06-.94-.94-2.06-.94 2.06-2.06.94z\"/><path d=\"M17.41 7.96l-1.37-1.37c-.4-.4-.92-.59-1.43-.59-.52 0-1.04.2-1.43.59L10.3 9.45l-7.72 7.72c-.78.78-.78 2.05 0 2.83L4 21.41c.39.39.9.59 1.41.59.51 0 1.02-.2 1.41-.59l7.78-7.78 2.81-2.81c.8-.78.8-2.07 0-2.86zM5.41 20L4 18.59l7.72-7.72 1.47 1.35L5.41 20z\"/>\n",
              "  </svg>\n",
              "      </button>\n",
              "      \n",
              "  <style>\n",
              "    .colab-df-container {\n",
              "      display:flex;\n",
              "      flex-wrap:wrap;\n",
              "      gap: 12px;\n",
              "    }\n",
              "\n",
              "    .colab-df-convert {\n",
              "      background-color: #E8F0FE;\n",
              "      border: none;\n",
              "      border-radius: 50%;\n",
              "      cursor: pointer;\n",
              "      display: none;\n",
              "      fill: #1967D2;\n",
              "      height: 32px;\n",
              "      padding: 0 0 0 0;\n",
              "      width: 32px;\n",
              "    }\n",
              "\n",
              "    .colab-df-convert:hover {\n",
              "      background-color: #E2EBFA;\n",
              "      box-shadow: 0px 1px 2px rgba(60, 64, 67, 0.3), 0px 1px 3px 1px rgba(60, 64, 67, 0.15);\n",
              "      fill: #174EA6;\n",
              "    }\n",
              "\n",
              "    [theme=dark] .colab-df-convert {\n",
              "      background-color: #3B4455;\n",
              "      fill: #D2E3FC;\n",
              "    }\n",
              "\n",
              "    [theme=dark] .colab-df-convert:hover {\n",
              "      background-color: #434B5C;\n",
              "      box-shadow: 0px 1px 3px 1px rgba(0, 0, 0, 0.15);\n",
              "      filter: drop-shadow(0px 1px 2px rgba(0, 0, 0, 0.3));\n",
              "      fill: #FFFFFF;\n",
              "    }\n",
              "  </style>\n",
              "\n",
              "      <script>\n",
              "        const buttonEl =\n",
              "          document.querySelector('#df-982b81aa-72ce-4654-bed2-d50b1a101f57 button.colab-df-convert');\n",
              "        buttonEl.style.display =\n",
              "          google.colab.kernel.accessAllowed ? 'block' : 'none';\n",
              "\n",
              "        async function convertToInteractive(key) {\n",
              "          const element = document.querySelector('#df-982b81aa-72ce-4654-bed2-d50b1a101f57');\n",
              "          const dataTable =\n",
              "            await google.colab.kernel.invokeFunction('convertToInteractive',\n",
              "                                                     [key], {});\n",
              "          if (!dataTable) return;\n",
              "\n",
              "          const docLinkHtml = 'Like what you see? Visit the ' +\n",
              "            '<a target=\"_blank\" href=https://colab.research.google.com/notebooks/data_table.ipynb>data table notebook</a>'\n",
              "            + ' to learn more about interactive tables.';\n",
              "          element.innerHTML = '';\n",
              "          dataTable['output_type'] = 'display_data';\n",
              "          await google.colab.output.renderOutput(dataTable, element);\n",
              "          const docLink = document.createElement('div');\n",
              "          docLink.innerHTML = docLinkHtml;\n",
              "          element.appendChild(docLink);\n",
              "        }\n",
              "      </script>\n",
              "    </div>\n",
              "  </div>\n",
              "  "
            ]
          },
          "metadata": {},
          "execution_count": 10
        }
      ]
    },
    {
      "cell_type": "code",
      "source": [
        "_,ax = plt.subplots(figsize=(16,10))\n",
        "sns.kdeplot(data.loc[data.Target == 'ham', \"num_words\"], shade=True, label=\"Ham\", clip=(0, 35)) \n",
        "sns.kdeplot(data.loc[data.Target == 'spam', \"num_words\"], shade=True, label=\"Spam\")\n",
        "ax.set(xlabel = \"Number of words\", ylabel = \"Density\", title = \"Spam concentrated around 30 words ham are concentrated around 10 words\")\n",
        "plt.show()\n"
      ],
      "metadata": {
        "colab": {
          "base_uri": "https://localhost:8080/",
          "height": 621
        },
        "id": "xu8zts37_Ck0",
        "outputId": "bd98c16e-fb95-4361-bb9e-b964c789f465"
      },
      "id": "xu8zts37_Ck0",
      "execution_count": null,
      "outputs": [
        {
          "output_type": "display_data",
          "data": {
            "text/plain": [
              "<Figure size 1152x720 with 1 Axes>"
            ],
            "image/png": "[encoded data removed]"
          },
          "metadata": {
            "needs_background": "light"
          }
        }
      ]
    },
    {
      "cell_type": "code",
      "source": [
        "_,ax = plt.subplots(figsize=(16,10))\n",
        "sns.kdeplot(data.loc[data.Target == 'ham', \"message_len\"], shade=True, label=\"Ham\", clip=(0, 250)) # removing observations with message length above 250 because there is an outlier\n",
        "sns.kdeplot(data.loc[data.Target == 'spam', \"message_len\"], shade=True, label=\"Spam\")\n",
        "ax.set(xlabel = \"Message length\", ylabel = \"Density\", title = \"Spam have message length ~150 ham are ~45b\")\n",
        "plt.show()\n"
      ],
      "metadata": {
        "colab": {
          "base_uri": "https://localhost:8080/",
          "height": 621
        },
        "id": "KAv4e67DGqIB",
        "outputId": "e698f59f-d0ec-4b40-d5d7-bcc7e07a8c66"
      },
      "id": "KAv4e67DGqIB",
      "execution_count": null,
      "outputs": [
        {
          "output_type": "display_data",
          "data": {
            "text/plain": [
              "<Figure size 1152x720 with 1 Axes>"
            ],
            "image/png": "[encoded data removed]"
          },
          "metadata": {
            "needs_background": "light"
          }
        }
      ]
    },
    {
      "cell_type": "markdown",
      "id": "b2ce0936",
      "metadata": {
        "id": "b2ce0936"
      },
      "source": [
        "Cleaning text"
      ]
    },
    {
      "cell_type": "code",
      "execution_count": null,
      "id": "75bcfc90",
      "metadata": {
        "colab": {
          "base_uri": "https://localhost:8080/"
        },
        "id": "75bcfc90",
        "outputId": "b29338ff-f8cc-4aa6-bf7b-cf6d9ddb3acf"
      },
      "outputs": [
        {
          "output_type": "stream",
          "name": "stdout",
          "text": [
            "\u001b[1m\u001b[45;1m The First 5 Texts:\u001b[0m\n",
            "Go until jurong point, crazy.. Available only in bugis n great world la e buffet... Cine there got amore wat...\n",
            "Ok lar... Joking wif u oni...\n",
            "Free entry in 2 a wkly comp to win FA Cup final tkts 21st May 2005. Text FA to 87121 to receive entry question(std txt rate)T&C's apply 08452810075over18's\n",
            "U dun say so early hor... U c already then say...\n",
            "Nah I don't think he goes to usf, he lives around here though\n"
          ]
        }
      ],
      "source": [
        "#Lets have a look at a sample of texts before cleaning\n",
        "print(\"\\033[1m\\u001b[45;1m The First 5 Texts:\\033[0m\",*data[\"Text\"][:5], sep = \"\\n\")"
      ]
    },
    {
      "cell_type": "code",
      "execution_count": null,
      "id": "f8cb4cdb",
      "metadata": {
        "colab": {
          "base_uri": "https://localhost:8080/"
        },
        "id": "f8cb4cdb",
        "outputId": "2374933e-7b88-46b2-b200-b969aa71de69"
      },
      "outputs": [
        {
          "output_type": "stream",
          "name": "stdout",
          "text": [
            "\u001b[1m\u001b[45;1m The First 5 Texts after cleaning:\u001b[0m\n",
            "go until jurong point crazy available only in bugis n great world la e buffet cine there got amore wat\n",
            "ok lar joking wif u oni\n",
            "free entry in a wkly comp to win fa cup final tkts st may text fa to to receive entry question std txt rate t c s apply over s\n",
            "u dun say so early hor u c already then say\n",
            "nah i don t think he goes to usf he lives around here though\n"
          ]
        }
      ],
      "source": [
        "# Defining a function to clean up the text\n",
        "def Clean(Text):\n",
        "    sms = re.sub('[^a-zA-Z]', ' ', Text) #Replacing all non-alphabetic characters with a space\n",
        "    sms = sms.lower() #converting to lowercase\n",
        "    sms = sms.split()\n",
        "    sms = ' '.join(sms)\n",
        "    return sms\n",
        "\n",
        "data[\"Clean_Text\"] = data[\"Text\"].apply(Clean)\n",
        "#Lets have a look at a sample of texts after cleaning\n",
        "print(\"\\033[1m\\u001b[45;1m The First 5 Texts after cleaning:\\033[0m\",*data[\"Clean_Text\"][:5], sep = \"\\n\")"
      ]
    },
    {
      "cell_type": "code",
      "source": [
        "nltk.download('punkt')"
      ],
      "metadata": {
        "colab": {
          "base_uri": "https://localhost:8080/"
        },
        "id": "bWXF6dK1mPhE",
        "outputId": "93dcbd58-679c-4ae0-98b8-c9ecdd7114d7"
      },
      "id": "bWXF6dK1mPhE",
      "execution_count": null,
      "outputs": [
        {
          "output_type": "stream",
          "name": "stdout",
          "text": [
            "[nltk_data] Downloading package punkt to /root/nltk_data...\n",
            "[nltk_data]   Unzipping tokenizers/punkt.zip.\n"
          ]
        },
        {
          "output_type": "execute_result",
          "data": {
            "text/plain": [
              "True"
            ]
          },
          "metadata": {},
          "execution_count": 15
        }
      ]
    },
    {
      "cell_type": "code",
      "execution_count": null,
      "id": "53ef7b29",
      "metadata": {
        "colab": {
          "base_uri": "https://localhost:8080/"
        },
        "id": "53ef7b29",
        "outputId": "c4069dc1-4ad0-4515-e796-1b2015beef40"
      },
      "outputs": [
        {
          "output_type": "stream",
          "name": "stdout",
          "text": [
            "\u001b[1m\u001b[45;1m The First 5 Texts after Tokenizing:\u001b[0m\n",
            "['go', 'until', 'jurong', 'point', 'crazy', 'available', 'only', 'in', 'bugis', 'n', 'great', 'world', 'la', 'e', 'buffet', 'cine', 'there', 'got', 'amore', 'wat']\n",
            "['ok', 'lar', 'joking', 'wif', 'u', 'oni']\n",
            "['free', 'entry', 'in', 'a', 'wkly', 'comp', 'to', 'win', 'fa', 'cup', 'final', 'tkts', 'st', 'may', 'text', 'fa', 'to', 'to', 'receive', 'entry', 'question', 'std', 'txt', 'rate', 't', 'c', 's', 'apply', 'over', 's']\n",
            "['u', 'dun', 'say', 'so', 'early', 'hor', 'u', 'c', 'already', 'then', 'say']\n",
            "['nah', 'i', 'don', 't', 'think', 'he', 'goes', 'to', 'usf', 'he', 'lives', 'around', 'here', 'though']\n"
          ]
        }
      ],
      "source": [
        "data[\"Tokenize_Text\"]=data.apply(lambda row: nltk.word_tokenize(row[\"Clean_Text\"]), axis=1)\n",
        "\n",
        "print(\"\\033[1m\\u001b[45;1m The First 5 Texts after Tokenizing:\\033[0m\",*data[\"Tokenize_Text\"][:5], sep = \"\\n\")"
      ]
    },
    {
      "cell_type": "code",
      "source": [
        "nltk.download('stopwords')"
      ],
      "metadata": {
        "colab": {
          "base_uri": "https://localhost:8080/"
        },
        "id": "cGYvtZlEmTu-",
        "outputId": "f75482b4-3c41-4ae3-c6f1-86696432e2a7"
      },
      "id": "cGYvtZlEmTu-",
      "execution_count": null,
      "outputs": [
        {
          "output_type": "stream",
          "name": "stdout",
          "text": [
            "[nltk_data] Downloading package stopwords to /root/nltk_data...\n",
            "[nltk_data]   Unzipping corpora/stopwords.zip.\n"
          ]
        },
        {
          "output_type": "execute_result",
          "data": {
            "text/plain": [
              "True"
            ]
          },
          "metadata": {},
          "execution_count": 17
        }
      ]
    },
    {
      "cell_type": "code",
      "execution_count": null,
      "id": "834a3dca",
      "metadata": {
        "colab": {
          "base_uri": "https://localhost:8080/"
        },
        "id": "834a3dca",
        "outputId": "3450dc95-6018-4ffd-97cf-00ccca3195ab"
      },
      "outputs": [
        {
          "output_type": "stream",
          "name": "stdout",
          "text": [
            "\u001b[1m\u001b[45;1m The First 5 Texts after removing the stopwords:\u001b[0m\n",
            "['go', 'jurong', 'point', 'crazy', 'available', 'bugis', 'n', 'great', 'world', 'la', 'e', 'buffet', 'cine', 'got', 'amore', 'wat']\n",
            "['ok', 'lar', 'joking', 'wif', 'u', 'oni']\n",
            "['free', 'entry', 'wkly', 'comp', 'win', 'fa', 'cup', 'final', 'tkts', 'st', 'may', 'text', 'fa', 'receive', 'entry', 'question', 'std', 'txt', 'rate', 'c', 'apply']\n",
            "['u', 'dun', 'say', 'early', 'hor', 'u', 'c', 'already', 'say']\n",
            "['nah', 'think', 'goes', 'usf', 'lives', 'around', 'though']\n"
          ]
        }
      ],
      "source": [
        "# Removing the stopwords function\n",
        "def remove_stopwords(text):\n",
        "    stop_words = set(stopwords.words(\"english\"))\n",
        "    filtered_text = [word for word in text if word not in stop_words]\n",
        "    return filtered_text\n",
        "\n",
        "data[\"Nostopword_Text\"] = data[\"Tokenize_Text\"].apply(remove_stopwords)\n",
        "\n",
        "print(\"\\033[1m\\u001b[45;1m The First 5 Texts after removing the stopwords:\\033[0m\",*data[\"Nostopword_Text\"][:5], sep = \"\\n\")"
      ]
    },
    {
      "cell_type": "markdown",
      "id": "a3426b8f",
      "metadata": {
        "id": "a3426b8f"
      },
      "source": [
        "LEMMATIZATION\n",
        "\n"
      ]
    },
    {
      "cell_type": "code",
      "source": [
        "nltk.download('wordnet')"
      ],
      "metadata": {
        "colab": {
          "base_uri": "https://localhost:8080/"
        },
        "id": "9boAhPlBmXx-",
        "outputId": "4d8c22e2-cb14-4c20-91ec-80f32fe1a63f"
      },
      "id": "9boAhPlBmXx-",
      "execution_count": null,
      "outputs": [
        {
          "output_type": "stream",
          "name": "stdout",
          "text": [
            "[nltk_data] Downloading package wordnet to /root/nltk_data...\n",
            "[nltk_data]   Unzipping corpora/wordnet.zip.\n"
          ]
        },
        {
          "output_type": "execute_result",
          "data": {
            "text/plain": [
              "True"
            ]
          },
          "metadata": {},
          "execution_count": 19
        }
      ]
    },
    {
      "cell_type": "code",
      "execution_count": null,
      "id": "9973f2cd",
      "metadata": {
        "colab": {
          "base_uri": "https://localhost:8080/"
        },
        "id": "9973f2cd",
        "outputId": "b7071b4f-d36f-41c6-a384-7890fc96735c"
      },
      "outputs": [
        {
          "output_type": "stream",
          "name": "stdout",
          "text": [
            "\u001b[1m\u001b[45;1m The First 5 Texts after lemitization:\u001b[0m\n",
            "['go', 'jurong', 'point', 'crazy', 'available', 'bugis', 'n', 'great', 'world', 'la', 'e', 'buffet', 'cine', 'get', 'amore', 'wat']\n",
            "['ok', 'lar', 'joke', 'wif', 'u', 'oni']\n",
            "['free', 'entry', 'wkly', 'comp', 'win', 'fa', 'cup', 'final', 'tkts', 'st', 'may', 'text', 'fa', 'receive', 'entry', 'question', 'std', 'txt', 'rate', 'c', 'apply']\n",
            "['u', 'dun', 'say', 'early', 'hor', 'u', 'c', 'already', 'say']\n",
            "['nah', 'think', 'go', 'usf', 'live', 'around', 'though']\n"
          ]
        }
      ],
      "source": [
        "lemmatizer = WordNetLemmatizer()\n",
        "# lemmatize string\n",
        "def lemmatize_word(text):\n",
        "    #word_tokens = word_tokenize(text)\n",
        "    # provide context i.e. part-of-speech\n",
        "    lemmas = [lemmatizer.lemmatize(word, pos ='v') for word in text]\n",
        "    return lemmas\n",
        "\n",
        "data[\"Lemmatized_Text\"] = data[\"Nostopword_Text\"].apply(lemmatize_word)\n",
        "print(\"\\033[1m\\u001b[45;1m The First 5 Texts after lemitization:\\033[0m\",*data[\"Lemmatized_Text\"][:5], sep = \"\\n\")\n"
      ]
    },
    {
      "cell_type": "code",
      "execution_count": null,
      "id": "8a198c64",
      "metadata": {
        "colab": {
          "base_uri": "https://localhost:8080/"
        },
        "id": "8a198c64",
        "outputId": "13a5a98d-cf79-4806-cc73-35b600e720e6"
      },
      "outputs": [
        {
          "output_type": "stream",
          "name": "stdout",
          "text": [
            "\u001b[1m\u001b[45;1m The First 5 lines in corpus :\u001b[0m\n",
            "go jurong point crazy available bugis n great world la e buffet cine get amore wat\n",
            "ok lar joke wif u oni\n",
            "free entry wkly comp win fa cup final tkts st may text fa receive entry question std txt rate c apply\n",
            "u dun say early hor u c already say\n",
            "nah think go usf live around though\n"
          ]
        }
      ],
      "source": [
        "#Creating a corpus of text feature to encode further into vectorized form\n",
        "corpus= []\n",
        "for i in data[\"Lemmatized_Text\"]:\n",
        "    msg = ' '.join([row for row in i])\n",
        "    corpus.append(msg)\n",
        "    \n",
        "corpus[:5]\n",
        "print(\"\\033[1m\\u001b[45;1m The First 5 lines in corpus :\\033[0m\",*corpus[:5], sep = \"\\n\")"
      ]
    },
    {
      "cell_type": "code",
      "execution_count": null,
      "id": "67dde0d1",
      "metadata": {
        "colab": {
          "base_uri": "https://localhost:8080/"
        },
        "id": "67dde0d1",
        "outputId": "d441bf2b-14eb-4d45-ac63-993ee69e67ab"
      },
      "outputs": [
        {
          "output_type": "execute_result",
          "data": {
            "text/plain": [
              "dtype('float64')"
            ]
          },
          "metadata": {},
          "execution_count": 22
        }
      ],
      "source": [
        "#Changing text data in to numbers. \n",
        "tfidf = TfidfVectorizer()\n",
        "X = tfidf.fit_transform(corpus).toarray()\n",
        "#Let's have a look at our feature \n",
        "X.dtype"
      ]
    },
    {
      "cell_type": "code",
      "execution_count": null,
      "id": "19d3ee22",
      "metadata": {
        "id": "19d3ee22"
      },
      "outputs": [],
      "source": [
        "#Label encode the Target and use it as y\n",
        "label_encoder = LabelEncoder()\n",
        "data[\"Target\"] = label_encoder.fit_transform(data[\"Target\"])"
      ]
    },
    {
      "cell_type": "markdown",
      "id": "ae452757",
      "metadata": {
        "id": "ae452757"
      },
      "source": [
        "Steps involved in the Model Building\n",
        "\n",
        "Setting up features and target as X and y\n",
        "Splitting the testing and training sets\n",
        "Build a pipeline of model for four different classifiers.\n",
        "Naïve Bayes\n",
        "RandomForestClassifier\n",
        "KNeighborsClassifier\n",
        "Support Vector Machines\n",
        "Fit all the models on training data\n",
        "Get the cross-validation on the training set for all the models for accuracy"
      ]
    },
    {
      "cell_type": "code",
      "execution_count": null,
      "id": "2831a46c",
      "metadata": {
        "id": "2831a46c"
      },
      "outputs": [],
      "source": [
        "#Setting values for labels and feature as y and X(we already did X in vectorizing...)\n",
        "y = data[\"Target\"] \n",
        "# Splitting the testing and training sets\n",
        "X_train, X_test, y_train, y_test = train_test_split(X, y, test_size=0.25, random_state=42)"
      ]
    },
    {
      "cell_type": "code",
      "execution_count": null,
      "id": "4440cae0",
      "metadata": {
        "id": "4440cae0"
      },
      "outputs": [],
      "source": [
        "#Testing on the following classifiers\n",
        "classifiers = [MultinomialNB(), \n",
        "               RandomForestClassifier(),\n",
        "               KNeighborsClassifier(), \n",
        "               SVC(),\n",
        "              sklearn.linear_model.LogisticRegression(random_state=0),\n",
        "              sklearn.tree.DecisionTreeClassifier(random_state=0),\n",
        "              xgboost.XGBClassifier(random_state=0,n_jobs=-1)]\n",
        "for cls in classifiers:\n",
        "    cls.fit(X_train, y_train)\n",
        "\n",
        "# Dictionary of pipelines and model types for ease of reference\n",
        "pipe_dict = {0: \"NaiveBayes\", 1: \"RandomForest\", 2: \"KNeighbours\", 3: \"SVC\", 4: \"Logistic Regression\", 5: \"Decision Tree\", 6: \"XGBoost\"}\n",
        "\n"
      ]
    },
    {
      "cell_type": "code",
      "execution_count": null,
      "id": "fc94d896",
      "metadata": {
        "colab": {
          "base_uri": "https://localhost:8080/"
        },
        "id": "fc94d896",
        "outputId": "f65e113a-3428-4e98-cdc8-8c4338107036"
      },
      "outputs": [
        {
          "output_type": "stream",
          "name": "stdout",
          "text": [
            "NaiveBayes: 0.966497 \n",
            "RandomForest: 0.977744 \n",
            "KNeighbours: 0.911942 \n",
            "SVC: 0.975829 \n",
            "Logistic Regression: 0.960514 \n",
            "Decision Tree: 0.959799 \n",
            "XGBoost: 0.969130 \n"
          ]
        }
      ],
      "source": [
        "# Cross validation \n",
        "for i, model in enumerate(classifiers):\n",
        "    cv_score = cross_val_score(model, X_train,y_train,scoring=\"accuracy\", cv=10)\n",
        "    print(\"%s: %f \" % (pipe_dict[i], cv_score.mean()))"
      ]
    },
    {
      "cell_type": "code",
      "execution_count": null,
      "id": "03b4da93",
      "metadata": {
        "id": "03b4da93"
      },
      "outputs": [],
      "source": [
        "# Model Evaluation\n",
        "# creating lists of various scores\n",
        "precision =[]\n",
        "recall =[]\n",
        "f1_score = []\n",
        "trainset_accuracy = []\n",
        "testset_accuracy = []\n",
        "\n",
        "for i in classifiers:\n",
        "    pred_train = i.predict(X_train)\n",
        "    pred_test = i.predict(X_test)\n",
        "    prec = metrics.precision_score(y_test, pred_test)\n",
        "    recal = metrics.recall_score(y_test, pred_test)\n",
        "    f1_s = metrics.f1_score(y_test, pred_test)\n",
        "    train_accuracy = i.score(X_train,y_train)\n",
        "    test_accuracy = i.score(X_test,y_test)\n",
        "  \n",
        "    #Appending scores\n",
        "    precision.append(prec)\n",
        "    recall.append(recal)\n",
        "    f1_score.append(f1_s)\n",
        "    trainset_accuracy.append(train_accuracy)\n",
        "    testset_accuracy.append(test_accuracy)"
      ]
    },
    {
      "cell_type": "code",
      "execution_count": null,
      "id": "7052fccf",
      "metadata": {
        "id": "7052fccf"
      },
      "outputs": [],
      "source": [
        "# initialise data of lists.\n",
        "metrics_table = {'Precision':precision,\n",
        "'Recall':recall,\n",
        "'F1score':f1_score,\n",
        "'Accuracy on Testset':testset_accuracy,\n",
        "'Accuracy on Trainset':trainset_accuracy}\n",
        "# Creates pandas DataFrame.\n",
        "Results = pd.DataFrame(metrics_table, index =[\"NaiveBayes\", \"RandomForest\", \"KNeighbours\",\"SVC\", \"Logistic Regression\", \"Decision Tree\", \"XGBoost\"])\n"
      ]
    },
    {
      "cell_type": "code",
      "execution_count": null,
      "id": "8ef43568",
      "metadata": {
        "colab": {
          "base_uri": "https://localhost:8080/",
          "height": 269
        },
        "id": "8ef43568",
        "outputId": "85e22a1f-ecb9-4bb1-aa91-9ced1188d702"
      },
      "outputs": [
        {
          "output_type": "execute_result",
          "data": {
            "text/plain": [
              "<pandas.io.formats.style.Styler at 0x7f4bac04b810>"
            ],
            "text/html": [
              "<style type=\"text/css\">\n",
              "#T_2cfe7_row0_col0 {\n",
              "  background-color: #034a74;\n",
              "  color: #f1f1f1;\n",
              "}\n",
              "#T_2cfe7_row0_col1 {\n",
              "  background-color: #0872b1;\n",
              "  color: #f1f1f1;\n",
              "}\n",
              "#T_2cfe7_row0_col2 {\n",
              "  background-color: #0569a5;\n",
              "  color: #f1f1f1;\n",
              "}\n",
              "#T_2cfe7_row0_col3 {\n",
              "  background-color: #0a73b2;\n",
              "  color: #f1f1f1;\n",
              "}\n",
              "#T_2cfe7_row0_col4 {\n",
              "  background-color: #2182b9;\n",
              "  color: #f1f1f1;\n",
              "}\n",
              "#T_2cfe7_row1_col0, #T_2cfe7_row1_col2, #T_2cfe7_row1_col3, #T_2cfe7_row1_col4, #T_2cfe7_row2_col0, #T_2cfe7_row5_col1, #T_2cfe7_row5_col4 {\n",
              "  background-color: #023858;\n",
              "  color: #f1f1f1;\n",
              "}\n",
              "#T_2cfe7_row1_col1, #T_2cfe7_row3_col1, #T_2cfe7_row3_col2 {\n",
              "  background-color: #023b5d;\n",
              "  color: #f1f1f1;\n",
              "}\n",
              "#T_2cfe7_row2_col1, #T_2cfe7_row2_col2, #T_2cfe7_row2_col3, #T_2cfe7_row2_col4, #T_2cfe7_row5_col0 {\n",
              "  background-color: #fff7fb;\n",
              "  color: #000000;\n",
              "}\n",
              "#T_2cfe7_row3_col0 {\n",
              "  background-color: #04588a;\n",
              "  color: #f1f1f1;\n",
              "}\n",
              "#T_2cfe7_row3_col3 {\n",
              "  background-color: #023e62;\n",
              "  color: #f1f1f1;\n",
              "}\n",
              "#T_2cfe7_row3_col4 {\n",
              "  background-color: #023f64;\n",
              "  color: #f1f1f1;\n",
              "}\n",
              "#T_2cfe7_row4_col0, #T_2cfe7_row4_col4 {\n",
              "  background-color: #308cbe;\n",
              "  color: #f1f1f1;\n",
              "}\n",
              "#T_2cfe7_row4_col1 {\n",
              "  background-color: #4697c4;\n",
              "  color: #f1f1f1;\n",
              "}\n",
              "#T_2cfe7_row4_col2 {\n",
              "  background-color: #3790c0;\n",
              "  color: #f1f1f1;\n",
              "}\n",
              "#T_2cfe7_row4_col3 {\n",
              "  background-color: #62a2cb;\n",
              "  color: #f1f1f1;\n",
              "}\n",
              "#T_2cfe7_row5_col2 {\n",
              "  background-color: #045b8e;\n",
              "  color: #f1f1f1;\n",
              "}\n",
              "#T_2cfe7_row5_col3 {\n",
              "  background-color: #056ba9;\n",
              "  color: #f1f1f1;\n",
              "}\n",
              "#T_2cfe7_row6_col0 {\n",
              "  background-color: #0d75b3;\n",
              "  color: #f1f1f1;\n",
              "}\n",
              "#T_2cfe7_row6_col1 {\n",
              "  background-color: #1c7fb8;\n",
              "  color: #f1f1f1;\n",
              "}\n",
              "#T_2cfe7_row6_col2 {\n",
              "  background-color: #1077b4;\n",
              "  color: #f1f1f1;\n",
              "}\n",
              "#T_2cfe7_row6_col3 {\n",
              "  background-color: #2c89bd;\n",
              "  color: #f1f1f1;\n",
              "}\n",
              "#T_2cfe7_row6_col4 {\n",
              "  background-color: #1e80b8;\n",
              "  color: #f1f1f1;\n",
              "}\n",
              "</style>\n",
              "<table id=\"T_2cfe7_\" class=\"dataframe\">\n",
              "  <thead>\n",
              "    <tr>\n",
              "      <th class=\"blank level0\" >&nbsp;</th>\n",
              "      <th class=\"col_heading level0 col0\" >Precision</th>\n",
              "      <th class=\"col_heading level0 col1\" >Recall</th>\n",
              "      <th class=\"col_heading level0 col2\" >F1score</th>\n",
              "      <th class=\"col_heading level0 col3\" >Accuracy on Testset</th>\n",
              "      <th class=\"col_heading level0 col4\" >Accuracy on Trainset</th>\n",
              "    </tr>\n",
              "  </thead>\n",
              "  <tbody>\n",
              "    <tr>\n",
              "      <th id=\"T_2cfe7_level0_row0\" class=\"row_heading level0 row0\" >NaiveBayes</th>\n",
              "      <td id=\"T_2cfe7_row0_col0\" class=\"data row0 col0\" >0.992647</td>\n",
              "      <td id=\"T_2cfe7_row0_col1\" class=\"data row0 col1\" >0.706806</td>\n",
              "      <td id=\"T_2cfe7_row0_col2\" class=\"data row0 col2\" >0.825688</td>\n",
              "      <td id=\"T_2cfe7_row0_col3\" class=\"data row0 col3\" >0.959081</td>\n",
              "      <td id=\"T_2cfe7_row0_col4\" class=\"data row0 col4\" >0.976071</td>\n",
              "    </tr>\n",
              "    <tr>\n",
              "      <th id=\"T_2cfe7_level0_row1\" class=\"row_heading level0 row1\" >RandomForest</th>\n",
              "      <td id=\"T_2cfe7_row1_col0\" class=\"data row1 col0\" >1.000000</td>\n",
              "      <td id=\"T_2cfe7_row1_col1\" class=\"data row1 col1\" >0.811518</td>\n",
              "      <td id=\"T_2cfe7_row1_col2\" class=\"data row1 col2\" >0.895954</td>\n",
              "      <td id=\"T_2cfe7_row1_col3\" class=\"data row1 col3\" >0.974156</td>\n",
              "      <td id=\"T_2cfe7_row1_col4\" class=\"data row1 col4\" >1.000000</td>\n",
              "    </tr>\n",
              "    <tr>\n",
              "      <th id=\"T_2cfe7_level0_row2\" class=\"row_heading level0 row2\" >KNeighbours</th>\n",
              "      <td id=\"T_2cfe7_row2_col0\" class=\"data row2 col0\" >1.000000</td>\n",
              "      <td id=\"T_2cfe7_row2_col1\" class=\"data row2 col1\" >0.392670</td>\n",
              "      <td id=\"T_2cfe7_row2_col2\" class=\"data row2 col2\" >0.563910</td>\n",
              "      <td id=\"T_2cfe7_row2_col3\" class=\"data row2 col3\" >0.916726</td>\n",
              "      <td id=\"T_2cfe7_row2_col4\" class=\"data row2 col4\" >0.925580</td>\n",
              "    </tr>\n",
              "    <tr>\n",
              "      <th id=\"T_2cfe7_level0_row3\" class=\"row_heading level0 row3\" >SVC</th>\n",
              "      <td id=\"T_2cfe7_row3_col0\" class=\"data row3 col0\" >0.987261</td>\n",
              "      <td id=\"T_2cfe7_row3_col1\" class=\"data row3 col1\" >0.811518</td>\n",
              "      <td id=\"T_2cfe7_row3_col2\" class=\"data row3 col2\" >0.890805</td>\n",
              "      <td id=\"T_2cfe7_row3_col3\" class=\"data row3 col3\" >0.972721</td>\n",
              "      <td id=\"T_2cfe7_row3_col4\" class=\"data row3 col4\" >0.997846</td>\n",
              "    </tr>\n",
              "    <tr>\n",
              "      <th id=\"T_2cfe7_level0_row4\" class=\"row_heading level0 row4\" >Logistic Regression</th>\n",
              "      <td id=\"T_2cfe7_row4_col0\" class=\"data row4 col0\" >0.960938</td>\n",
              "      <td id=\"T_2cfe7_row4_col1\" class=\"data row4 col1\" >0.643979</td>\n",
              "      <td id=\"T_2cfe7_row4_col2\" class=\"data row4 col2\" >0.771160</td>\n",
              "      <td id=\"T_2cfe7_row4_col3\" class=\"data row4 col3\" >0.947595</td>\n",
              "      <td id=\"T_2cfe7_row4_col4\" class=\"data row4 col4\" >0.973199</td>\n",
              "    </tr>\n",
              "    <tr>\n",
              "      <th id=\"T_2cfe7_level0_row5\" class=\"row_heading level0 row5\" >Decision Tree</th>\n",
              "      <td id=\"T_2cfe7_row5_col0\" class=\"data row5 col0\" >0.891429</td>\n",
              "      <td id=\"T_2cfe7_row5_col1\" class=\"data row5 col1\" >0.816754</td>\n",
              "      <td id=\"T_2cfe7_row5_col2\" class=\"data row5 col2\" >0.852459</td>\n",
              "      <td id=\"T_2cfe7_row5_col3\" class=\"data row5 col3\" >0.961235</td>\n",
              "      <td id=\"T_2cfe7_row5_col4\" class=\"data row5 col4\" >1.000000</td>\n",
              "    </tr>\n",
              "    <tr>\n",
              "      <th id=\"T_2cfe7_level0_row6\" class=\"row_heading level0 row6\" >XGBoost</th>\n",
              "      <td id=\"T_2cfe7_row6_col0\" class=\"data row6 col0\" >0.970370</td>\n",
              "      <td id=\"T_2cfe7_row6_col1\" class=\"data row6 col1\" >0.685864</td>\n",
              "      <td id=\"T_2cfe7_row6_col2\" class=\"data row6 col2\" >0.803681</td>\n",
              "      <td id=\"T_2cfe7_row6_col3\" class=\"data row6 col3\" >0.954056</td>\n",
              "      <td id=\"T_2cfe7_row6_col4\" class=\"data row6 col4\" >0.976549</td>\n",
              "    </tr>\n",
              "  </tbody>\n",
              "</table>\n"
            ]
          },
          "metadata": {},
          "execution_count": 30
        }
      ],
      "source": [
        "# cmap2 = ListedColormap([\"#E2CCFF\",\"#E598D8\"])\n",
        "Results.style.background_gradient()"
      ]
    },
    {
      "cell_type": "code",
      "source": [
        "!pip install imbalanced-learn"
      ],
      "metadata": {
        "colab": {
          "base_uri": "https://localhost:8080/"
        },
        "id": "50-0S_u_v1jW",
        "outputId": "b9d12e4d-b7bb-4f84-9b90-507c0cdacf26"
      },
      "id": "50-0S_u_v1jW",
      "execution_count": null,
      "outputs": [
        {
          "output_type": "stream",
          "name": "stdout",
          "text": [
            "Requirement already satisfied: imbalanced-learn in /usr/local/lib/python3.7/dist-packages (0.8.1)\n",
            "Requirement already satisfied: joblib>=0.11 in /usr/local/lib/python3.7/dist-packages (from imbalanced-learn) (1.1.0)\n",
            "Requirement already satisfied: scipy>=0.19.1 in /usr/local/lib/python3.7/dist-packages (from imbalanced-learn) (1.4.1)\n",
            "Requirement already satisfied: numpy>=1.13.3 in /usr/local/lib/python3.7/dist-packages (from imbalanced-learn) (1.21.6)\n",
            "Requirement already satisfied: scikit-learn>=0.24 in /usr/local/lib/python3.7/dist-packages (from imbalanced-learn) (1.0.2)\n",
            "Requirement already satisfied: threadpoolctl>=2.0.0 in /usr/local/lib/python3.7/dist-packages (from scikit-learn>=0.24->imbalanced-learn) (3.1.0)\n"
          ]
        }
      ]
    },
    {
      "cell_type": "code",
      "source": [
        "sns.set_style(\"darkgrid\")\n",
        "sns.set_context(\"poster\")\n",
        "plt.rcParams[\"figure.figsize\"] = [8,6]"
      ],
      "metadata": {
        "id": "gvKj_eGTv77N"
      },
      "id": "gvKj_eGTv77N",
      "execution_count": null,
      "outputs": []
    },
    {
      "cell_type": "code",
      "source": [
        "from imblearn.over_sampling import SMOTE\n",
        "\n",
        "su = SMOTE(random_state=42)\n",
        "X_smote_train, y_smote_train = su.fit_resample(X_train, y_train)"
      ],
      "metadata": {
        "id": "ti4CMjsuv_OM"
      },
      "id": "ti4CMjsuv_OM",
      "execution_count": null,
      "outputs": []
    },
    {
      "cell_type": "code",
      "source": [
        "y_train.groupby(y).size().plot(kind='pie',\n",
        "                                    y = \"y\",\n",
        "                                    label = \"Type\",\n",
        "                                    autopct='%1.1f%%')"
      ],
      "metadata": {
        "colab": {
          "base_uri": "https://localhost:8080/",
          "height": 375
        },
        "id": "CfF0bewIUtcO",
        "outputId": "90f275e7-1128-40e4-eab0-c2c071f5c923"
      },
      "id": "CfF0bewIUtcO",
      "execution_count": null,
      "outputs": [
        {
          "output_type": "execute_result",
          "data": {
            "text/plain": [
              "<matplotlib.axes._subplots.AxesSubplot at 0x7f4ba52f7110>"
            ]
          },
          "metadata": {},
          "execution_count": 34
        },
        {
          "output_type": "display_data",
          "data": {
            "text/plain": [
              "<Figure size 576x432 with 1 Axes>"
            ],
            "image/png": "[encoded data removed]"
          },
          "metadata": {}
        }
      ]
    },
    {
      "cell_type": "code",
      "source": [
        "y_smote_train.groupby(y_smote_train).size().plot(kind='pie',\n",
        "                                       y = \"y_smote_train\",\n",
        "                                       label = \"Type\",\n",
        "                                       autopct='%1.1f%%')"
      ],
      "metadata": {
        "colab": {
          "base_uri": "https://localhost:8080/",
          "height": 375
        },
        "id": "oOg5bqu_6IC6",
        "outputId": "686cfbab-7c80-462d-efaf-12eab68d0ff3"
      },
      "id": "oOg5bqu_6IC6",
      "execution_count": null,
      "outputs": [
        {
          "output_type": "execute_result",
          "data": {
            "text/plain": [
              "<matplotlib.axes._subplots.AxesSubplot at 0x7f4ba52a2990>"
            ]
          },
          "metadata": {},
          "execution_count": 35
        },
        {
          "output_type": "display_data",
          "data": {
            "text/plain": [
              "<Figure size 576x432 with 1 Axes>"
            ],
            "image/png": "[encoded data removed]"
          },
          "metadata": {}
        }
      ]
    },
    {
      "cell_type": "code",
      "source": [
        "for cls in classifiers:\n",
        "    cls.fit(X_smote_train, y_smote_train)"
      ],
      "metadata": {
        "id": "re1fr0-gxgOa"
      },
      "id": "re1fr0-gxgOa",
      "execution_count": null,
      "outputs": []
    },
    {
      "cell_type": "code",
      "source": [
        "# Crossvalidation \n",
        "for i, model in enumerate(classifiers):\n",
        "    cv_score = cross_val_score(model, X_smote_train, y_smote_train, scoring=\"accuracy\", cv=10)\n",
        "    print(\"%s: %f \" % (pipe_dict[i], cv_score.mean()))"
      ],
      "metadata": {
        "colab": {
          "base_uri": "https://localhost:8080/"
        },
        "id": "J7mkasINxj_s",
        "outputId": "231c0128-5880-4b1c-f659-f38d3c6b8dcb"
      },
      "id": "J7mkasINxj_s",
      "execution_count": null,
      "outputs": [
        {
          "output_type": "stream",
          "name": "stdout",
          "text": [
            "NaiveBayes: 0.979852 \n",
            "RandomForest: 0.994344 \n",
            "KNeighbours: 0.994204 \n",
            "SVC: 0.997793 \n",
            "Logistic Regression: 0.986478 \n",
            "Decision Tree: 0.976404 \n",
            "XGBoost: 0.972955 \n"
          ]
        }
      ]
    },
    {
      "cell_type": "code",
      "source": [
        "# Model Evaluation\n",
        "# creating lists of varios scores\n",
        "precision =[]\n",
        "recall =[]\n",
        "f1_score = []\n",
        "trainset_accuracy = []\n",
        "testset_accuracy = []\n",
        "\n",
        "for i in classifiers:\n",
        "    pred_train = i.predict(X_smote_train)\n",
        "    pred_test = i.predict(X_test)\n",
        "    prec = metrics.precision_score(y_test, pred_test)\n",
        "    recal = metrics.recall_score(y_test, pred_test)\n",
        "    f1_s = metrics.f1_score(y_test, pred_test)\n",
        "    train_accuracy = i.score(X_smote_train, y_smote_train)\n",
        "    test_accuracy = i.score(X_test,y_test)\n",
        "  \n",
        "    #Appending scores\n",
        "    precision.append(prec)\n",
        "    recall.append(recal)\n",
        "    f1_score.append(f1_s)\n",
        "    trainset_accuracy.append(train_accuracy)\n",
        "    testset_accuracy.append(test_accuracy)"
      ],
      "metadata": {
        "id": "KJ9I1al6xnM_"
      },
      "id": "KJ9I1al6xnM_",
      "execution_count": null,
      "outputs": []
    },
    {
      "cell_type": "code",
      "source": [
        "# initialise data of lists.\n",
        "metrics_table = {'Precision':precision,\n",
        "'Recall':recall,\n",
        "'F1score':f1_score,\n",
        "'Accuracy on Testset':testset_accuracy,\n",
        "'Accuracy on Trainset':trainset_accuracy}\n",
        "# Creates pandas DataFrame.\n",
        "Results = pd.DataFrame(metrics_table, index =[\"NaiveBayes\", \"RandomForest\", \"KNeighbours\",\"SVC\", \"Logistic Regression\", \"Decision Tree\", \"XGBoost\"])\n"
      ],
      "metadata": {
        "id": "T0C_ILgaxtu4"
      },
      "id": "T0C_ILgaxtu4",
      "execution_count": null,
      "outputs": []
    },
    {
      "cell_type": "code",
      "source": [
        "# cmap2 = ListedColormap([\"#E2CCFF\",\"#E598D8\"])\n",
        "Results.style.background_gradient()"
      ],
      "metadata": {
        "colab": {
          "base_uri": "https://localhost:8080/",
          "height": 269
        },
        "id": "S-Orn758xy4B",
        "outputId": "6ba451df-fbbc-4de8-c5ec-13964245ee36"
      },
      "id": "S-Orn758xy4B",
      "execution_count": null,
      "outputs": [
        {
          "output_type": "execute_result",
          "data": {
            "text/plain": [
              "<pandas.io.formats.style.Styler at 0x7f4bb85b6f50>"
            ],
            "text/html": [
              "<style type=\"text/css\">\n",
              "#T_59107_row0_col0 {\n",
              "  background-color: #c6cce3;\n",
              "  color: #000000;\n",
              "}\n",
              "#T_59107_row0_col1, #T_59107_row1_col0, #T_59107_row1_col3, #T_59107_row1_col4, #T_59107_row3_col2, #T_59107_row3_col3, #T_59107_row3_col4, #T_59107_row5_col4 {\n",
              "  background-color: #023858;\n",
              "  color: #f1f1f1;\n",
              "}\n",
              "#T_59107_row0_col2 {\n",
              "  background-color: #034b76;\n",
              "  color: #f1f1f1;\n",
              "}\n",
              "#T_59107_row0_col3 {\n",
              "  background-color: #0568a3;\n",
              "  color: #f1f1f1;\n",
              "}\n",
              "#T_59107_row0_col4 {\n",
              "  background-color: #99b8d8;\n",
              "  color: #000000;\n",
              "}\n",
              "#T_59107_row1_col1 {\n",
              "  background-color: #65a3cb;\n",
              "  color: #f1f1f1;\n",
              "}\n",
              "#T_59107_row1_col2 {\n",
              "  background-color: #02395a;\n",
              "  color: #f1f1f1;\n",
              "}\n",
              "#T_59107_row2_col0 {\n",
              "  background-color: #045687;\n",
              "  color: #f1f1f1;\n",
              "}\n",
              "#T_59107_row2_col1, #T_59107_row2_col2, #T_59107_row5_col0, #T_59107_row6_col3, #T_59107_row6_col4 {\n",
              "  background-color: #fff7fb;\n",
              "  color: #000000;\n",
              "}\n",
              "#T_59107_row2_col3 {\n",
              "  background-color: #ced0e6;\n",
              "  color: #000000;\n",
              "}\n",
              "#T_59107_row2_col4, #T_59107_row4_col3 {\n",
              "  background-color: #034c78;\n",
              "  color: #f1f1f1;\n",
              "}\n",
              "#T_59107_row3_col0 {\n",
              "  background-color: #023f64;\n",
              "  color: #f1f1f1;\n",
              "}\n",
              "#T_59107_row3_col1, #T_59107_row6_col1 {\n",
              "  background-color: #5a9ec9;\n",
              "  color: #f1f1f1;\n",
              "}\n",
              "#T_59107_row4_col0, #T_59107_row4_col1 {\n",
              "  background-color: #1b7eb7;\n",
              "  color: #f1f1f1;\n",
              "}\n",
              "#T_59107_row4_col2 {\n",
              "  background-color: #034267;\n",
              "  color: #f1f1f1;\n",
              "}\n",
              "#T_59107_row4_col4 {\n",
              "  background-color: #4697c4;\n",
              "  color: #f1f1f1;\n",
              "}\n",
              "#T_59107_row5_col1 {\n",
              "  background-color: #2383ba;\n",
              "  color: #f1f1f1;\n",
              "}\n",
              "#T_59107_row5_col2 {\n",
              "  background-color: #d9d8ea;\n",
              "  color: #000000;\n",
              "}\n",
              "#T_59107_row5_col3 {\n",
              "  background-color: #f0eaf4;\n",
              "  color: #000000;\n",
              "}\n",
              "#T_59107_row6_col0 {\n",
              "  background-color: #fef6fa;\n",
              "  color: #000000;\n",
              "}\n",
              "#T_59107_row6_col2 {\n",
              "  background-color: #f5eef6;\n",
              "  color: #000000;\n",
              "}\n",
              "</style>\n",
              "<table id=\"T_59107_\" class=\"dataframe\">\n",
              "  <thead>\n",
              "    <tr>\n",
              "      <th class=\"blank level0\" >&nbsp;</th>\n",
              "      <th class=\"col_heading level0 col0\" >Precision</th>\n",
              "      <th class=\"col_heading level0 col1\" >Recall</th>\n",
              "      <th class=\"col_heading level0 col2\" >F1score</th>\n",
              "      <th class=\"col_heading level0 col3\" >Accuracy on Testset</th>\n",
              "      <th class=\"col_heading level0 col4\" >Accuracy on Trainset</th>\n",
              "    </tr>\n",
              "  </thead>\n",
              "  <tbody>\n",
              "    <tr>\n",
              "      <th id=\"T_59107_level0_row0\" class=\"row_heading level0 row0\" >NaiveBayes</th>\n",
              "      <td id=\"T_59107_row0_col0\" class=\"data row0 col0\" >0.852381</td>\n",
              "      <td id=\"T_59107_row0_col1\" class=\"data row0 col1\" >0.937173</td>\n",
              "      <td id=\"T_59107_row0_col2\" class=\"data row0 col2\" >0.892768</td>\n",
              "      <td id=\"T_59107_row0_col3\" class=\"data row0 col3\" >0.969131</td>\n",
              "      <td id=\"T_59107_row0_col4\" class=\"data row0 col4\" >0.987441</td>\n",
              "    </tr>\n",
              "    <tr>\n",
              "      <th id=\"T_59107_level0_row1\" class=\"row_heading level0 row1\" >RandomForest</th>\n",
              "      <td id=\"T_59107_row1_col0\" class=\"data row1 col0\" >1.000000</td>\n",
              "      <td id=\"T_59107_row1_col1\" class=\"data row1 col1\" >0.816754</td>\n",
              "      <td id=\"T_59107_row1_col2\" class=\"data row1 col2\" >0.899135</td>\n",
              "      <td id=\"T_59107_row1_col3\" class=\"data row1 col3\" >0.974874</td>\n",
              "      <td id=\"T_59107_row1_col4\" class=\"data row1 col4\" >1.000000</td>\n",
              "    </tr>\n",
              "    <tr>\n",
              "      <th id=\"T_59107_level0_row2\" class=\"row_heading level0 row2\" >KNeighbours</th>\n",
              "      <td id=\"T_59107_row2_col0\" class=\"data row2 col0\" >0.977444</td>\n",
              "      <td id=\"T_59107_row2_col1\" class=\"data row2 col1\" >0.680628</td>\n",
              "      <td id=\"T_59107_row2_col2\" class=\"data row2 col2\" >0.802469</td>\n",
              "      <td id=\"T_59107_row2_col3\" class=\"data row2 col3\" >0.954056</td>\n",
              "      <td id=\"T_59107_row2_col4\" class=\"data row2 col4\" >0.998344</td>\n",
              "    </tr>\n",
              "    <tr>\n",
              "      <th id=\"T_59107_level0_row3\" class=\"row_heading level0 row3\" >SVC</th>\n",
              "      <td id=\"T_59107_row3_col0\" class=\"data row3 col0\" >0.993671</td>\n",
              "      <td id=\"T_59107_row3_col1\" class=\"data row3 col1\" >0.821990</td>\n",
              "      <td id=\"T_59107_row3_col2\" class=\"data row3 col2\" >0.899713</td>\n",
              "      <td id=\"T_59107_row3_col3\" class=\"data row3 col3\" >0.974874</td>\n",
              "      <td id=\"T_59107_row3_col4\" class=\"data row3 col4\" >1.000000</td>\n",
              "    </tr>\n",
              "    <tr>\n",
              "      <th id=\"T_59107_level0_row4\" class=\"row_heading level0 row4\" >Logistic Regression</th>\n",
              "      <td id=\"T_59107_row4_col0\" class=\"data row4 col0\" >0.937143</td>\n",
              "      <td id=\"T_59107_row4_col1\" class=\"data row4 col1\" >0.858639</td>\n",
              "      <td id=\"T_59107_row4_col2\" class=\"data row4 col2\" >0.896175</td>\n",
              "      <td id=\"T_59107_row4_col3\" class=\"data row4 col3\" >0.972721</td>\n",
              "      <td id=\"T_59107_row4_col4\" class=\"data row4 col4\" >0.991306</td>\n",
              "    </tr>\n",
              "    <tr>\n",
              "      <th id=\"T_59107_level0_row5\" class=\"row_heading level0 row5\" >Decision Tree</th>\n",
              "      <td id=\"T_59107_row5_col0\" class=\"data row5 col0\" >0.795122</td>\n",
              "      <td id=\"T_59107_row5_col1\" class=\"data row5 col1\" >0.853403</td>\n",
              "      <td id=\"T_59107_row5_col2\" class=\"data row5 col2\" >0.823232</td>\n",
              "      <td id=\"T_59107_row5_col3\" class=\"data row5 col3\" >0.949749</td>\n",
              "      <td id=\"T_59107_row5_col4\" class=\"data row5 col4\" >1.000000</td>\n",
              "    </tr>\n",
              "    <tr>\n",
              "      <th id=\"T_59107_level0_row6\" class=\"row_heading level0 row6\" >XGBoost</th>\n",
              "      <td id=\"T_59107_row6_col0\" class=\"data row6 col0\" >0.796954</td>\n",
              "      <td id=\"T_59107_row6_col1\" class=\"data row6 col1\" >0.821990</td>\n",
              "      <td id=\"T_59107_row6_col2\" class=\"data row6 col2\" >0.809278</td>\n",
              "      <td id=\"T_59107_row6_col3\" class=\"data row6 col3\" >0.946877</td>\n",
              "      <td id=\"T_59107_row6_col4\" class=\"data row6 col4\" >0.978747</td>\n",
              "    </tr>\n",
              "  </tbody>\n",
              "</table>\n"
            ]
          },
          "metadata": {},
          "execution_count": 40
        }
      ]
    },
    {
      "cell_type": "markdown",
      "source": [
        "BERT and GLOVE with LSTM"
      ],
      "metadata": {
        "id": "rWc-wJBBqldx"
      },
      "id": "rWc-wJBBqldx"
    },
    {
      "cell_type": "code",
      "source": [
        "df = pd.DataFrame(corpus, columns =['text'])"
      ],
      "metadata": {
        "id": "Jkvq3cIYes1T"
      },
      "id": "Jkvq3cIYes1T",
      "execution_count": null,
      "outputs": []
    },
    {
      "cell_type": "code",
      "source": [
        "x_train, x_test, y_train, y_test = train_test_split(df['text'], y, test_size=0.25, random_state=42)"
      ],
      "metadata": {
        "id": "azPj25rxfQzF"
      },
      "id": "azPj25rxfQzF",
      "execution_count": null,
      "outputs": []
    },
    {
      "cell_type": "code",
      "source": [
        "embedding_dict = dict()\n",
        "embedding_dim = 100\n",
        "\n",
        "# Each word is represented in one line in the text file\n",
        "# Format - Word val1 val2 val3......val-n for n-dimension vector space\n",
        "\n",
        "with open('glove.6B.100d.txt') as fp:\n",
        "    for line in fp.readlines():\n",
        "        records = line.split()\n",
        "        word = records[0]\n",
        "        vector = np.asarray(records[1:], dtype='float32')\n",
        "        embedding_dict[word] = vector"
      ],
      "metadata": {
        "id": "R8T-aU8Pfqjp"
      },
      "id": "R8T-aU8Pfqjp",
      "execution_count": null,
      "outputs": []
    },
    {
      "cell_type": "code",
      "source": [
        "text = df['text']"
      ],
      "metadata": {
        "id": "b98eEeTUg6dv"
      },
      "id": "b98eEeTUg6dv",
      "execution_count": null,
      "outputs": []
    },
    {
      "cell_type": "code",
      "source": [
        "# Calculating the total vocabulary\n",
        "tk = Tokenizer()\n",
        "tk.fit_on_texts(text)\n",
        "\n",
        "vocab = len(tk.word_index)+1\n",
        "vocab"
      ],
      "metadata": {
        "colab": {
          "base_uri": "https://localhost:8080/"
        },
        "id": "WFFyzomWe8rb",
        "outputId": "7812ba89-93a7-4623-db1c-83b0e71bcf2c"
      },
      "id": "WFFyzomWe8rb",
      "execution_count": null,
      "outputs": [
        {
          "output_type": "execute_result",
          "data": {
            "text/plain": [
              "6597"
            ]
          },
          "metadata": {},
          "execution_count": 45
        }
      ]
    },
    {
      "cell_type": "code",
      "source": [
        "# Maximum length\n",
        "max_len = np.max(df['text'].apply(lambda x: len(x.split())).values)\n",
        "max_len\n"
      ],
      "metadata": {
        "colab": {
          "base_uri": "https://localhost:8080/"
        },
        "id": "FWDzk1Bdg-jA",
        "outputId": "b446a0c3-86a1-49f6-b788-68510825446d"
      },
      "id": "FWDzk1Bdg-jA",
      "execution_count": null,
      "outputs": [
        {
          "output_type": "execute_result",
          "data": {
            "text/plain": [
              "77"
            ]
          },
          "metadata": {},
          "execution_count": 46
        }
      ]
    },
    {
      "cell_type": "code",
      "source": [
        "def embedding(text):\n",
        "    return tk.texts_to_sequences(text)\n",
        "\n",
        "train_padded = pad_sequences(embedding(text), 77, padding='post')"
      ],
      "metadata": {
        "id": "AgGdJVQcg_Md"
      },
      "id": "AgGdJVQcg_Md",
      "execution_count": null,
      "outputs": []
    },
    {
      "cell_type": "code",
      "source": [
        "# Creating a matrix for each word as index (word numerical value extracted from tokenizer\n",
        "# with N-features (corresponding to GloVe)\n",
        "# We will replace the matrix elements by the words and their embeddings\n",
        "\n",
        "# Our embeddings will also consist embeddings for padding\n",
        "embedding_matrix = np.zeros((vocab, embedding_dim))\n",
        "\n",
        "for word, index in tk.word_index.items():\n",
        "    embed_vector = embedding_dict.get(word)\n",
        "    if embed_vector is not None:\n",
        "        embedding_matrix[index] = embed_vector\n",
        "        \n",
        "embedding_matrix"
      ],
      "metadata": {
        "colab": {
          "base_uri": "https://localhost:8080/"
        },
        "id": "7CmBjQT9hDn7",
        "outputId": "a45e3c63-a739-4ed6-dca5-516917aea462"
      },
      "id": "7CmBjQT9hDn7",
      "execution_count": null,
      "outputs": [
        {
          "output_type": "execute_result",
          "data": {
            "text/plain": [
              "array([[ 0.        ,  0.        ,  0.        , ...,  0.        ,\n",
              "         0.        ,  0.        ],\n",
              "       [-0.031087  ,  0.22155   ,  0.44494   , ..., -0.67097002,\n",
              "         0.24698   , -0.62001002],\n",
              "       [ 0.14432999,  0.43950999,  0.58323997, ...,  0.50133997,\n",
              "         0.49535999,  0.49919999],\n",
              "       ...,\n",
              "       [ 0.63009   , -0.036992  ,  0.24052   , ...,  0.10029   ,\n",
              "         0.056822  ,  0.25018999],\n",
              "       [-0.12201   ,  0.20465   ,  0.53192002, ..., -0.164     ,\n",
              "        -0.41637   ,  0.66426003],\n",
              "       [-0.41600999,  0.16974001,  0.43457001, ..., -0.083432  ,\n",
              "         0.49520999,  0.77258003]])"
            ]
          },
          "metadata": {},
          "execution_count": 48
        }
      ]
    },
    {
      "cell_type": "code",
      "source": [
        "# We will be creating seaborn and plotly confusion matrices\n",
        "import plotly.figure_factory as ff\n",
        "x_axes = ['Safe','Spam']\n",
        "y_axes = ['Spam', 'Safe']\n",
        "\n",
        "def conf_matrix(z, x=x_axes, y=y_axes):\n",
        "    z = np.flip(z, 0)\n",
        "    # Change each element of z to string \n",
        "    # This allows them to be used as annotations\n",
        "    z_str = [[str(y) for y in x] for x in z]\n",
        "    fig = ff.create_annotated_heatmap(z, x=x, y=y, annotation_text=z_str)\n",
        "    \n",
        "    fig.update_layout(title_text='Confusion matrix', xaxis=dict(title='Predicted Value'),\n",
        "                     yaxis=dict(title='Real value'))\n",
        "    \n",
        "    fig['data'][0]['showscale'] = True\n",
        "    return fig"
      ],
      "metadata": {
        "id": "XsdxgFnnhGVN"
      },
      "id": "XsdxgFnnhGVN",
      "execution_count": null,
      "outputs": []
    },
    {
      "cell_type": "code",
      "source": [
        "from sklearn.metrics import confusion_matrix\n",
        "categories=['Ham', 'Spam']\n",
        "def seaborn_conf(y, ypred):\n",
        "    y_true = [\"Ham\", \"Spam\"]\n",
        "    y_pred = [\"Ham\", \"Spam\"]\n",
        "    cf = confusion_matrix(y, ypred)\n",
        "    df_cm = pd.DataFrame(cf, columns=np.unique(y_true), index = np.unique(y_true))\n",
        "    plt.figure(figsize=(8,6))\n",
        "    sns.heatmap(df_cm, annot=True, fmt='g')\n",
        "    plt.title('Confusion matrix')\n",
        "    plt.xlabel('Predicted value')\n",
        "    plt.ylabel('Real value')\n",
        "    plt.show()"
      ],
      "metadata": {
        "id": "jU5kpW4ohMOy"
      },
      "id": "jU5kpW4ohMOy",
      "execution_count": null,
      "outputs": []
    },
    {
      "cell_type": "code",
      "source": [
        "x_train, x_test, y_train, y_test = train_test_split(train_padded, y, test_size=0.25)"
      ],
      "metadata": {
        "id": "nJH9V3uWhSJH"
      },
      "id": "nJH9V3uWhSJH",
      "execution_count": null,
      "outputs": []
    },
    {
      "cell_type": "code",
      "source": [
        "model = Sequential()\n",
        "model.add(Embedding(input_dim=embedding_matrix.shape[0], \n",
        "                   output_dim=embedding_matrix.shape[1],\n",
        "                   weights=[embedding_matrix],\n",
        "                   input_length=max_len\n",
        "                   )\n",
        "         )\n",
        "model.add(Bidirectional(LSTM(max_len, return_sequences=True, recurrent_dropout=0.15)))\n",
        "model.add(GlobalMaxPool1D())\n",
        "model.add(BatchNormalization())\n",
        "model.add(Dropout(0.3))\n",
        "model.add(Dense(max_len, activation='relu'))\n",
        "model.add(Dropout(0.3))\n",
        "model.add(Dense(max_len, activation='relu'))\n",
        "model.add(Dropout(0.3))\n",
        "model.add(Dense(1, activation='sigmoid'))\n",
        "\n",
        "\n",
        "model.compile(optimizer='adam', loss='binary_crossentropy', metrics=['accuracy'])\n",
        "model.summary()"
      ],
      "metadata": {
        "colab": {
          "base_uri": "https://localhost:8080/"
        },
        "id": "xJfjnSeehcRr",
        "outputId": "fbc29587-76ab-40fb-c574-35d6393922a0"
      },
      "id": "xJfjnSeehcRr",
      "execution_count": null,
      "outputs": [
        {
          "output_type": "stream",
          "name": "stdout",
          "text": [
            "WARNING:tensorflow:Layer lstm will not use cuDNN kernels since it doesn't meet the criteria. It will use a generic GPU kernel as fallback when running on GPU.\n",
            "WARNING:tensorflow:Layer lstm will not use cuDNN kernels since it doesn't meet the criteria. It will use a generic GPU kernel as fallback when running on GPU.\n",
            "WARNING:tensorflow:Layer lstm will not use cuDNN kernels since it doesn't meet the criteria. It will use a generic GPU kernel as fallback when running on GPU.\n",
            "Model: \"sequential\"\n",
            "_________________________________________________________________\n",
            " Layer (type)                Output Shape              Param #   \n",
            "=================================================================\n",
            " embedding (Embedding)       (None, 77, 100)           659700    \n",
            "                                                                 \n",
            " bidirectional (Bidirectiona  (None, 77, 154)          109648    \n",
            " l)                                                              \n",
            "                                                                 \n",
            " global_max_pooling1d (Globa  (None, 154)              0         \n",
            " lMaxPooling1D)                                                  \n",
            "                                                                 \n",
            " batch_normalization (BatchN  (None, 154)              616       \n",
            " ormalization)                                                   \n",
            "                                                                 \n",
            " dropout (Dropout)           (None, 154)               0         \n",
            "                                                                 \n",
            " dense (Dense)               (None, 77)                11935     \n",
            "                                                                 \n",
            " dropout_1 (Dropout)         (None, 77)                0         \n",
            "                                                                 \n",
            " dense_1 (Dense)             (None, 77)                6006      \n",
            "                                                                 \n",
            " dropout_2 (Dropout)         (None, 77)                0         \n",
            "                                                                 \n",
            " dense_2 (Dense)             (None, 1)                 78        \n",
            "                                                                 \n",
            "=================================================================\n",
            "Total params: 787,983\n",
            "Trainable params: 787,675\n",
            "Non-trainable params: 308\n",
            "_________________________________________________________________\n"
          ]
        }
      ]
    },
    {
      "cell_type": "code",
      "source": [
        "x_train.shape"
      ],
      "metadata": {
        "id": "sNVRB27Oh7us"
      },
      "id": "sNVRB27Oh7us",
      "execution_count": null,
      "outputs": []
    },
    {
      "cell_type": "code",
      "source": [
        "# Defining Callbacks\n",
        "# Checkpoints in case our model stops training due to some circumstance - saving progress\n",
        "checkpoints = ModelCheckpoint('ck_model.h5', monitor='val_loss', verbose=1, save_best_only=True)\n",
        "# Reducing the learning rate if no improvement in validation loss over 5 epochs\n",
        "# This is to train the model better\n",
        "reduce_lr = ReduceLROnPlateau(monitor='val_loss', vactor=0.1, verbose=1, patience=5, min_lr=0.0001)"
      ],
      "metadata": {
        "id": "yxuMqpvUhg2i"
      },
      "id": "yxuMqpvUhg2i",
      "execution_count": null,
      "outputs": []
    },
    {
      "cell_type": "code",
      "source": [
        "history = model.fit(x_train, y_train, epochs=10, batch_size=32, validation_data=(x_test, y_test), verbose=1, callbacks=[reduce_lr, checkpoints])\n"
      ],
      "metadata": {
        "colab": {
          "base_uri": "https://localhost:8080/"
        },
        "id": "6_iZgwfohltW",
        "outputId": "05f24191-35a5-48d3-ec73-d85a205a24a3"
      },
      "id": "6_iZgwfohltW",
      "execution_count": null,
      "outputs": [
        {
          "output_type": "stream",
          "name": "stdout",
          "text": [
            "Epoch 1/10\n",
            "131/131 [==============================] - ETA: 0s - loss: 0.2221 - accuracy: 0.9062\n",
            "Epoch 1: val_loss improved from inf to 0.24244, saving model to ck_model.h5\n",
            "131/131 [==============================] - 73s 500ms/step - loss: 0.2221 - accuracy: 0.9062 - val_loss: 0.2424 - val_accuracy: 0.9612 - lr: 0.0010\n",
            "Epoch 2/10\n",
            "131/131 [==============================] - ETA: 0s - loss: 0.0865 - accuracy: 0.9727\n",
            "Epoch 2: val_loss improved from 0.24244 to 0.11133, saving model to ck_model.h5\n",
            "131/131 [==============================] - 65s 496ms/step - loss: 0.0865 - accuracy: 0.9727 - val_loss: 0.1113 - val_accuracy: 0.9670 - lr: 0.0010\n",
            "Epoch 3/10\n",
            "131/131 [==============================] - ETA: 0s - loss: 0.0490 - accuracy: 0.9837\n",
            "Epoch 3: val_loss improved from 0.11133 to 0.06571, saving model to ck_model.h5\n",
            "131/131 [==============================] - 63s 478ms/step - loss: 0.0490 - accuracy: 0.9837 - val_loss: 0.0657 - val_accuracy: 0.9770 - lr: 0.0010\n",
            "Epoch 4/10\n",
            "131/131 [==============================] - ETA: 0s - loss: 0.0379 - accuracy: 0.9885\n",
            "Epoch 4: val_loss improved from 0.06571 to 0.05952, saving model to ck_model.h5\n",
            "131/131 [==============================] - 64s 488ms/step - loss: 0.0379 - accuracy: 0.9885 - val_loss: 0.0595 - val_accuracy: 0.9842 - lr: 0.0010\n",
            "Epoch 5/10\n",
            "131/131 [==============================] - ETA: 0s - loss: 0.0250 - accuracy: 0.9928\n",
            "Epoch 5: val_loss did not improve from 0.05952\n",
            "131/131 [==============================] - 63s 479ms/step - loss: 0.0250 - accuracy: 0.9928 - val_loss: 0.0956 - val_accuracy: 0.9835 - lr: 0.0010\n",
            "Epoch 6/10\n",
            "131/131 [==============================] - ETA: 0s - loss: 0.0191 - accuracy: 0.9947\n",
            "Epoch 6: val_loss did not improve from 0.05952\n",
            "131/131 [==============================] - 62s 476ms/step - loss: 0.0191 - accuracy: 0.9947 - val_loss: 0.0791 - val_accuracy: 0.9856 - lr: 0.0010\n",
            "Epoch 7/10\n",
            "131/131 [==============================] - ETA: 0s - loss: 0.0161 - accuracy: 0.9950\n",
            "Epoch 7: val_loss did not improve from 0.05952\n",
            "131/131 [==============================] - 63s 477ms/step - loss: 0.0161 - accuracy: 0.9950 - val_loss: 0.0906 - val_accuracy: 0.9777 - lr: 0.0010\n",
            "Epoch 8/10\n",
            "131/131 [==============================] - ETA: 0s - loss: 0.0163 - accuracy: 0.9945\n",
            "Epoch 8: val_loss did not improve from 0.05952\n",
            "131/131 [==============================] - 76s 581ms/step - loss: 0.0163 - accuracy: 0.9945 - val_loss: 0.0900 - val_accuracy: 0.9813 - lr: 0.0010\n",
            "Epoch 9/10\n",
            "131/131 [==============================] - ETA: 0s - loss: 0.0169 - accuracy: 0.9950\n",
            "Epoch 9: ReduceLROnPlateau reducing learning rate to 0.00010000000474974513.\n",
            "\n",
            "Epoch 9: val_loss did not improve from 0.05952\n",
            "131/131 [==============================] - 62s 475ms/step - loss: 0.0169 - accuracy: 0.9950 - val_loss: 0.0829 - val_accuracy: 0.9821 - lr: 0.0010\n",
            "Epoch 10/10\n",
            "131/131 [==============================] - ETA: 0s - loss: 0.0098 - accuracy: 0.9976\n",
            "Epoch 10: val_loss did not improve from 0.05952\n",
            "131/131 [==============================] - 62s 475ms/step - loss: 0.0098 - accuracy: 0.9976 - val_loss: 0.0824 - val_accuracy: 0.9835 - lr: 1.0000e-04\n"
          ]
        }
      ]
    },
    {
      "cell_type": "code",
      "source": [
        "# Plotting the results\n",
        "def learning_curve(history, arr):\n",
        "    fig, ax=plt.subplots(1, 2, figsize=(20, 5))\n",
        "    for idx in range(2):\n",
        "        ax[idx].plot(history.history[arr[idx][0]])\n",
        "        ax[idx].plot(history.history[arr[idx][1]])\n",
        "        ax[idx].legend([arr[idx][0], arr[idx][1]])\n",
        "        ax[idx].set_xlabel('Epochs')\n",
        "        ax[idx].set_ylabel('Value')\n",
        "        ax[idx].set_title(arr[idx][0]+' X '+ arr[idx][1])"
      ],
      "metadata": {
        "id": "pPPR_gbId-Bq"
      },
      "id": "pPPR_gbId-Bq",
      "execution_count": null,
      "outputs": []
    },
    {
      "cell_type": "code",
      "source": [
        "yp = model.predict(x_test)\n",
        "yp"
      ],
      "metadata": {
        "colab": {
          "base_uri": "https://localhost:8080/"
        },
        "id": "2ONmSjjnej6A",
        "outputId": "7d43d111-44c0-4334-ba6f-a6b3950b3c75"
      },
      "id": "2ONmSjjnej6A",
      "execution_count": null,
      "outputs": [
        {
          "output_type": "execute_result",
          "data": {
            "text/plain": [
              "array([[7.0863388e-02],\n",
              "       [2.3264181e-05],\n",
              "       [2.1884866e-06],\n",
              "       ...,\n",
              "       [3.1632787e-12],\n",
              "       [1.8600340e-04],\n",
              "       [1.5186504e-07]], dtype=float32)"
            ]
          },
          "metadata": {},
          "execution_count": 56
        }
      ]
    },
    {
      "cell_type": "code",
      "source": [
        "yp = (model.predict(x_test)>0.5).astype('int32')\n",
        "yp"
      ],
      "metadata": {
        "colab": {
          "base_uri": "https://localhost:8080/"
        },
        "id": "jEykR4yRkX90",
        "outputId": "9161dcd0-d69c-4dda-cfdd-3c620ba2aa1f"
      },
      "id": "jEykR4yRkX90",
      "execution_count": null,
      "outputs": [
        {
          "output_type": "execute_result",
          "data": {
            "text/plain": [
              "array([[0],\n",
              "       [0],\n",
              "       [0],\n",
              "       ...,\n",
              "       [0],\n",
              "       [0],\n",
              "       [0]], dtype=int32)"
            ]
          },
          "metadata": {},
          "execution_count": 57
        }
      ]
    },
    {
      "cell_type": "code",
      "source": [
        "seaborn_conf(y_test, yp)\n"
      ],
      "metadata": {
        "colab": {
          "base_uri": "https://localhost:8080/",
          "height": 446
        },
        "id": "jv7ptNfYkddh",
        "outputId": "3ee80df1-b0bb-492c-a139-dad38af3f44c"
      },
      "id": "jv7ptNfYkddh",
      "execution_count": null,
      "outputs": [
        {
          "output_type": "display_data",
          "data": {
            "text/plain": [
              "<Figure size 576x432 with 2 Axes>"
            ],
            "image/png": "[encoded data removed]"
          },
          "metadata": {}
        }
      ]
    },
    {
      "cell_type": "code",
      "source": [
        "!pip install transformers"
      ],
      "metadata": {
        "colab": {
          "base_uri": "https://localhost:8080/",
          "height": 697
        },
        "id": "73gYdKJYkd6P",
        "outputId": "64e61ad2-0d2a-48a0-a178-0dcffc148334"
      },
      "id": "73gYdKJYkd6P",
      "execution_count": null,
      "outputs": [
        {
          "output_type": "stream",
          "name": "stdout",
          "text": [
            "Collecting transformers\n",
            "  Downloading transformers-4.19.1-py3-none-any.whl (4.2 MB)\n",
            "\u001b[K     |████████████████████████████████| 4.2 MB 4.1 MB/s \n",
            "\u001b[?25hRequirement already satisfied: regex!=2019.12.17 in /usr/local/lib/python3.7/dist-packages (from transformers) (2019.12.20)\n",
            "Requirement already satisfied: numpy>=1.17 in /usr/local/lib/python3.7/dist-packages (from transformers) (1.21.6)\n",
            "Collecting pyyaml>=5.1\n",
            "  Downloading PyYAML-6.0-cp37-cp37m-manylinux_2_5_x86_64.manylinux1_x86_64.manylinux_2_12_x86_64.manylinux2010_x86_64.whl (596 kB)\n",
            "\u001b[K     |████████████████████████████████| 596 kB 70.5 MB/s \n",
            "\u001b[?25hRequirement already satisfied: tqdm>=4.27 in /usr/local/lib/python3.7/dist-packages (from transformers) (4.64.0)\n",
            "Requirement already satisfied: packaging>=20.0 in /usr/local/lib/python3.7/dist-packages (from transformers) (21.3)\n",
            "Requirement already satisfied: importlib-metadata in /usr/local/lib/python3.7/dist-packages (from transformers) (4.11.3)\n",
            "Collecting tokenizers!=0.11.3,<0.13,>=0.11.1\n",
            "  Downloading tokenizers-0.12.1-cp37-cp37m-manylinux_2_12_x86_64.manylinux2010_x86_64.whl (6.6 MB)\n",
            "\u001b[K     |████████████████████████████████| 6.6 MB 52.3 MB/s \n",
            "\u001b[?25hCollecting huggingface-hub<1.0,>=0.1.0\n",
            "  Downloading huggingface_hub-0.6.0-py3-none-any.whl (84 kB)\n",
            "\u001b[K     |████████████████████████████████| 84 kB 4.1 MB/s \n",
            "\u001b[?25hRequirement already satisfied: requests in /usr/local/lib/python3.7/dist-packages (from transformers) (2.23.0)\n",
            "Requirement already satisfied: filelock in /usr/local/lib/python3.7/dist-packages (from transformers) (3.6.0)\n",
            "Requirement already satisfied: typing-extensions>=3.7.4.3 in /usr/local/lib/python3.7/dist-packages (from huggingface-hub<1.0,>=0.1.0->transformers) (4.2.0)\n",
            "Requirement already satisfied: pyparsing!=3.0.5,>=2.0.2 in /usr/local/lib/python3.7/dist-packages (from packaging>=20.0->transformers) (3.0.8)\n",
            "Requirement already satisfied: zipp>=0.5 in /usr/local/lib/python3.7/dist-packages (from importlib-metadata->transformers) (3.8.0)\n",
            "Requirement already satisfied: certifi>=2017.4.17 in /usr/local/lib/python3.7/dist-packages (from requests->transformers) (2021.10.8)\n",
            "Requirement already satisfied: chardet<4,>=3.0.2 in /usr/local/lib/python3.7/dist-packages (from requests->transformers) (3.0.4)\n",
            "Requirement already satisfied: idna<3,>=2.5 in /usr/local/lib/python3.7/dist-packages (from requests->transformers) (2.10)\n",
            "Requirement already satisfied: urllib3!=1.25.0,!=1.25.1,<1.26,>=1.21.1 in /usr/local/lib/python3.7/dist-packages (from requests->transformers) (1.24.3)\n",
            "Installing collected packages: pyyaml, tokenizers, huggingface-hub, transformers\n",
            "  Attempting uninstall: pyyaml\n",
            "    Found existing installation: PyYAML 3.13\n",
            "    Uninstalling PyYAML-3.13:\n",
            "      Successfully uninstalled PyYAML-3.13\n",
            "Successfully installed huggingface-hub-0.6.0 pyyaml-6.0 tokenizers-0.12.1 transformers-4.19.1\n"
          ]
        },
        {
          "output_type": "display_data",
          "data": {
            "application/vnd.colab-display-data+json": {
              "pip_warning": {
                "packages": [
                  "yaml"
                ]
              }
            }
          },
          "metadata": {}
        }
      ]
    },
    {
      "cell_type": "code",
      "source": [
        "import tensorflow as tf\n",
        "from tensorflow.keras.layers import Dense, Input\n",
        "from tensorflow.keras.optimizers import Adam\n",
        "from tensorflow.keras.models import Model\n",
        "from tensorflow.keras.callbacks import ModelCheckpoint\n",
        "\n",
        "import transformers\n",
        "from tqdm.notebook import tqdm\n",
        "from tokenizers import BertWordPieceTokenizer"
      ],
      "metadata": {
        "id": "4O4vAtZFkiXC"
      },
      "id": "4O4vAtZFkiXC",
      "execution_count": null,
      "outputs": []
    },
    {
      "cell_type": "code",
      "source": [
        "from transformers import BertTokenizer\n",
        "tokenizer = BertTokenizer.from_pretrained('bert-large-uncased')\n",
        "\n",
        "def bert_encode(data, maximum_length):\n",
        "    input_ids=[]\n",
        "    attention_masks=[]\n",
        "    for text in data:\n",
        "        encoded = tokenizer.encode_plus(text, add_special_tokens=True, max_length = maximum_length, pad_to_max_length=True, return_attention_mask=True)\n",
        "        input_ids.append(encoded['input_ids'])\n",
        "        attention_masks.append(encoded['attention_mask'])\n",
        "    return np.array(input_ids), np.array(attention_masks)"
      ],
      "metadata": {
        "colab": {
          "base_uri": "https://localhost:8080/",
          "height": 113,
          "referenced_widgets": [
            "3eaa4d9d1563424e964c6b5e62280486",
            "8822aec0c77446a7bfe3b0e7cfdcf9a8",
            "acd88f42b18d4b7c9997406d6a985ed1",
            "9ddc33c75e82492bbbb4d43122d59df7",
            "2dea16528dcd4a0d8b787d7eb60a918e",
            "0f53d852f8dc48af881572766350fd8a",
            "e8313cc1f824449197ac972464841c66",
            "007d9b98c2784e3fa0a4d7c4dc2a81f5",
            "b9f8fc0b7b434da5bddb0c27e4a0846f",
            "28527aca406545b8b6d69e8fb817b7b0",
            "43489e18b3e949f9ac93ca8c1c196276",
            "9af54d4f5abd49fda6b77eddd187e66e",
            "70aed6b992004b4e9ac26a2c59430fa3",
            "6fc59954ab6b49cbad7f3f867d640095",
            "2ff30b5f5f314d23a50d06c3d780a3d0",
            "bb4c7503f7ce40c5b819c8d9d0a046b1",
            "075186f4505d4ca3a861d3731f60c9b7",
            "44f39ff17a23469f85548140e760cae3",
            "758a2a39a32043eeb36137599c7c34d1",
            "7182f647599a441cb84d8f1e9650ad6b",
            "61deca388f8e44a3922ef71ce27b7e04",
            "aff3e4071d4c486e9db455d0cc9a01cf",
            "bc249dd3e3be4290b0cfd428ccff4074",
            "3bff133884374b3baf77d440f2be9e29",
            "cb9428606d904684a42a473b79241e0c",
            "2760e2dded444b8198ccd83b0ec0e668",
            "10b70a93219b43e685a2e20248a89dfd",
            "36317ce9bf3c446ebfc225d268d87be9",
            "89c71fc680ee4a82b5191732ce78111d",
            "8b2d0ea62dee420895bbe029a7c441dd",
            "9368574135b847699415f4511a8b2f82",
            "2309d53726484db9a6c7c1a680306587",
            "d9db85abbbf545708fef0af1004d6552"
          ]
        },
        "id": "GM4tbqqBkll8",
        "outputId": "64ec7137-0afa-440a-e470-a988793cb8bf"
      },
      "id": "GM4tbqqBkll8",
      "execution_count": null,
      "outputs": [
        {
          "output_type": "display_data",
          "data": {
            "text/plain": [
              "Downloading:   0%|          | 0.00/226k [00:00<?, ?B/s]"
            ],
            "application/vnd.jupyter.widget-view+json": {
              "version_major": 2,
              "version_minor": 0,
              "model_id": "3eaa4d9d1563424e964c6b5e62280486"
            }
          },
          "metadata": {}
        },
        {
          "output_type": "display_data",
          "data": {
            "text/plain": [
              "Downloading:   0%|          | 0.00/28.0 [00:00<?, ?B/s]"
            ],
            "application/vnd.jupyter.widget-view+json": {
              "version_major": 2,
              "version_minor": 0,
              "model_id": "9af54d4f5abd49fda6b77eddd187e66e"
            }
          },
          "metadata": {}
        },
        {
          "output_type": "display_data",
          "data": {
            "text/plain": [
              "Downloading:   0%|          | 0.00/571 [00:00<?, ?B/s]"
            ],
            "application/vnd.jupyter.widget-view+json": {
              "version_major": 2,
              "version_minor": 0,
              "model_id": "bc249dd3e3be4290b0cfd428ccff4074"
            }
          },
          "metadata": {}
        }
      ]
    },
    {
      "cell_type": "code",
      "source": [
        "np.max(df['text'].apply(lambda x: len(x.split())).values)\n"
      ],
      "metadata": {
        "colab": {
          "base_uri": "https://localhost:8080/"
        },
        "id": "effixaLRkoDc",
        "outputId": "9ad4ba35-d348-49d8-89a6-008a2994ee69"
      },
      "id": "effixaLRkoDc",
      "execution_count": null,
      "outputs": [
        {
          "output_type": "execute_result",
          "data": {
            "text/plain": [
              "77"
            ]
          },
          "metadata": {},
          "execution_count": 63
        }
      ]
    },
    {
      "cell_type": "code",
      "source": [
        "bt_text = df['text']\n",
        "bt_label = y\n",
        "\n",
        "bt_ids, bt_masks = bert_encode(bt_text, 77)"
      ],
      "metadata": {
        "colab": {
          "base_uri": "https://localhost:8080/"
        },
        "id": "r8L3IWolksNu",
        "outputId": "f7fefca6-0075-4798-c580-88fa83093c63"
      },
      "id": "r8L3IWolksNu",
      "execution_count": null,
      "outputs": [
        {
          "output_type": "stream",
          "name": "stderr",
          "text": [
            "Truncation was not explicitly activated but `max_length` is provided a specific value, please use `truncation=True` to explicitly truncate examples to max length. Defaulting to 'longest_first' truncation strategy. If you encode pairs of sequences (GLUE-style) with the tokenizer you can select this strategy more precisely by providing a specific strategy to `truncation`.\n"
          ]
        }
      ]
    },
    {
      "cell_type": "code",
      "source": [
        "from transformers import TFBertModel\n",
        "def create_model(bert_model):\n",
        "    \n",
        "    input_ids = tf.keras.Input(shape=(77,),dtype='int32')\n",
        "    attention_masks = tf.keras.Input(shape=(77,),dtype='int32')\n",
        "\n",
        "    output = bert_model([input_ids,attention_masks])\n",
        "    output = output[1]\n",
        "    output = tf.keras.layers.Dense(32,activation='relu')(output)\n",
        "    output = tf.keras.layers.Dropout(0.2)(output)\n",
        "    output = tf.keras.layers.Dense(1,activation='sigmoid')(output)\n",
        "    \n",
        "    model = tf.keras.models.Model(inputs = [input_ids,attention_masks],outputs = output)\n",
        "    model.compile(Adam(lr=1e-5), loss='binary_crossentropy', metrics=['accuracy'])\n",
        "    return model"
      ],
      "metadata": {
        "id": "U08rgPFckv39"
      },
      "id": "U08rgPFckv39",
      "execution_count": null,
      "outputs": []
    },
    {
      "cell_type": "code",
      "source": [
        "bert_model = TFBertModel.from_pretrained('bert-base-uncased')\n"
      ],
      "metadata": {
        "colab": {
          "base_uri": "https://localhost:8080/",
          "height": 190,
          "referenced_widgets": [
            "211c4b2b3caf4f9c98eb7be31d61a53a",
            "c640b403eded40b5a666e75474739761",
            "40215e6f6fa44830acc525efc9dfb996",
            "9a759a5f723544ea9ddfa0f670ad3c90",
            "efa28c3faa064cea95f130c13acd01c1",
            "0d2b2615cc5540aebf0a8e58c9a469dd",
            "a4505505b6b6498d85b026ac8e58932f",
            "77d733db9c574ac1ad37619d10143272",
            "ad13877d0fa24256bddb2c536a63d53c",
            "d52b20dcffac47fdb87ba8140d88e2b7",
            "5b188f27bc5248c39c6ba200f39154c3",
            "bd7d97d846284d9fbcf5ea02dc18a0b9",
            "695c696d2fa04bb38299cff0267a48f9",
            "981f88ab21c0410892a042b89a1b6bf5",
            "8c4dd565ae3248bb81a179e216810b5c",
            "f84f152d80204eebbe7cb63b4c8320f0",
            "23c318eb12354f6d8518343b7eb4396c",
            "287e8dcc326740a69e4796b90d698535",
            "70cbf4e5af1941578d69bf4bc7d16930",
            "782f4a862cbf4bdabbd8c3150576a539",
            "94e0bedd0d224c18aa12ac162badf04d",
            "049a213e409e4b59a938d5d7a62b85d9"
          ]
        },
        "id": "uxjh1PERkyNI",
        "outputId": "9a4f1652-3df4-4bf9-be1d-ce7c8c293057"
      },
      "id": "uxjh1PERkyNI",
      "execution_count": null,
      "outputs": [
        {
          "output_type": "display_data",
          "data": {
            "text/plain": [
              "Downloading:   0%|          | 0.00/570 [00:00<?, ?B/s]"
            ],
            "application/vnd.jupyter.widget-view+json": {
              "version_major": 2,
              "version_minor": 0,
              "model_id": "211c4b2b3caf4f9c98eb7be31d61a53a"
            }
          },
          "metadata": {}
        },
        {
          "output_type": "display_data",
          "data": {
            "text/plain": [
              "Downloading:   0%|          | 0.00/511M [00:00<?, ?B/s]"
            ],
            "application/vnd.jupyter.widget-view+json": {
              "version_major": 2,
              "version_minor": 0,
              "model_id": "bd7d97d846284d9fbcf5ea02dc18a0b9"
            }
          },
          "metadata": {}
        },
        {
          "output_type": "stream",
          "name": "stderr",
          "text": [
            "Some layers from the model checkpoint at bert-base-uncased were not used when initializing TFBertModel: ['mlm___cls', 'nsp___cls']\n",
            "- This IS expected if you are initializing TFBertModel from the checkpoint of a model trained on another task or with another architecture (e.g. initializing a BertForSequenceClassification model from a BertForPreTraining model).\n",
            "- This IS NOT expected if you are initializing TFBertModel from the checkpoint of a model that you expect to be exactly identical (initializing a BertForSequenceClassification model from a BertForSequenceClassification model).\n",
            "All the layers of TFBertModel were initialized from the model checkpoint at bert-base-uncased.\n",
            "If your task is similar to the task the model of the checkpoint was trained on, you can already use TFBertModel for predictions without further training.\n"
          ]
        }
      ]
    },
    {
      "cell_type": "code",
      "source": [
        "model = create_model(bert_model)\n",
        "model.summary()"
      ],
      "metadata": {
        "colab": {
          "base_uri": "https://localhost:8080/"
        },
        "id": "xLBkVT0Ckz5Y",
        "outputId": "b8f81490-72e1-45ee-bfc4-3927228a744e"
      },
      "id": "xLBkVT0Ckz5Y",
      "execution_count": null,
      "outputs": [
        {
          "output_type": "stream",
          "name": "stdout",
          "text": [
            "Model: \"model\"\n",
            "__________________________________________________________________________________________________\n",
            " Layer (type)                   Output Shape         Param #     Connected to                     \n",
            "==================================================================================================\n",
            " input_1 (InputLayer)           [(None, 77)]         0           []                               \n",
            "                                                                                                  \n",
            " input_2 (InputLayer)           [(None, 77)]         0           []                               \n",
            "                                                                                                  \n",
            " tf_bert_model (TFBertModel)    TFBaseModelOutputWi  109482240   ['input_1[0][0]',                \n",
            "                                thPoolingAndCrossAt               'input_2[0][0]']                \n",
            "                                tentions(last_hidde                                               \n",
            "                                n_state=(None, 77,                                                \n",
            "                                768),                                                             \n",
            "                                 pooler_output=(Non                                               \n",
            "                                e, 768),                                                          \n",
            "                                 past_key_values=No                                               \n",
            "                                ne, hidden_states=N                                               \n",
            "                                one, attentions=Non                                               \n",
            "                                e, cross_attentions                                               \n",
            "                                =None)                                                            \n",
            "                                                                                                  \n",
            " dense_3 (Dense)                (None, 32)           24608       ['tf_bert_model[0][1]']          \n",
            "                                                                                                  \n",
            " dropout_40 (Dropout)           (None, 32)           0           ['dense_3[0][0]']                \n",
            "                                                                                                  \n",
            " dense_4 (Dense)                (None, 1)            33          ['dropout_40[0][0]']             \n",
            "                                                                                                  \n",
            "==================================================================================================\n",
            "Total params: 109,506,881\n",
            "Trainable params: 109,506,881\n",
            "Non-trainable params: 0\n",
            "__________________________________________________________________________________________________\n"
          ]
        }
      ]
    },
    {
      "cell_type": "code",
      "source": [
        "history = model.fit([bt_ids, bt_masks], bt_label, validation_split=0.25, epochs=3, batch_size=10)"
      ],
      "metadata": {
        "colab": {
          "base_uri": "https://localhost:8080/"
        },
        "id": "GZB0H6QGlbbM",
        "outputId": "09de0a98-7ff3-4882-f5c1-9055824dd59b"
      },
      "id": "GZB0H6QGlbbM",
      "execution_count": null,
      "outputs": [
        {
          "output_type": "stream",
          "name": "stdout",
          "text": [
            "Epoch 1/3\n",
            "418/418 [==============================] - 89s 168ms/step - loss: 0.1279 - accuracy: 0.9605 - val_loss: 0.0457 - val_accuracy: 0.9835\n",
            "Epoch 2/3\n",
            "418/418 [==============================] - 64s 154ms/step - loss: 0.0529 - accuracy: 0.9854 - val_loss: 0.0418 - val_accuracy: 0.9878\n",
            "Epoch 3/3\n",
            "418/418 [==============================] - 65s 155ms/step - loss: 0.0309 - accuracy: 0.9935 - val_loss: 0.0377 - val_accuracy: 0.9899\n"
          ]
        }
      ]
    },
    {
      "cell_type": "code",
      "source": [
        "learning_curve(history, [['loss', 'val_loss'],['accuracy', 'val_accuracy']])\n"
      ],
      "metadata": {
        "colab": {
          "base_uri": "https://localhost:8080/",
          "height": 350
        },
        "id": "x8zzuz5wlgLU",
        "outputId": "4c82b6e9-7751-40de-a871-a2b97916f08e"
      },
      "id": "x8zzuz5wlgLU",
      "execution_count": null,
      "outputs": [
        {
          "output_type": "display_data",
          "data": {
            "text/plain": [
              "<Figure size 1440x360 with 2 Axes>"
            ],
            "image/png": "[encoded data removed]"
          },
          "metadata": {}
        }
      ]
    }
  ],
  "metadata": {
    "kernelspec": {
      "display_name": "Python 3 (ipykernel)",
      "language": "python",
      "name": "python3"
    },
    "language_info": {
      "codemirror_mode": {
        "name": "ipython",
        "version": 3
      },
      "file_extension": ".py",
      "mimetype": "text/x-python",
      "name": "python",
      "nbconvert_exporter": "python",
      "pygments_lexer": "ipython3",
      "version": "3.9.7"
    },
    "colab": {
      "name": "MLProject.ipynb",
      "provenance": [],
      "collapsed_sections": []
    },
    "accelerator": "GPU",
    "widgets": {
      "application/vnd.jupyter.widget-state+json": {
        "3eaa4d9d1563424e964c6b5e62280486": {
          "model_module": "@jupyter-widgets/controls",
          "model_name": "HBoxModel",
          "model_module_version": "1.5.0",
          "state": {
            "_dom_classes": [],
            "_model_module": "@jupyter-widgets/controls",
            "_model_module_version": "1.5.0",
            "_model_name": "HBoxModel",
            "_view_count": null,
            "_view_module": "@jupyter-widgets/controls",
            "_view_module_version": "1.5.0",
            "_view_name": "HBoxView",
            "box_style": "",
            "children": [
              "IPY_MODEL_8822aec0c77446a7bfe3b0e7cfdcf9a8",
              "IPY_MODEL_acd88f42b18d4b7c9997406d6a985ed1",
              "IPY_MODEL_9ddc33c75e82492bbbb4d43122d59df7"
            ],
            "layout": "IPY_MODEL_2dea16528dcd4a0d8b787d7eb60a918e"
          }
        },
        "8822aec0c77446a7bfe3b0e7cfdcf9a8": {
          "model_module": "@jupyter-widgets/controls",
          "model_name": "HTMLModel",
          "model_module_version": "1.5.0",
          "state": {
            "_dom_classes": [],
            "_model_module": "@jupyter-widgets/controls",
            "_model_module_version": "1.5.0",
            "_model_name": "HTMLModel",
            "_view_count": null,
            "_view_module": "@jupyter-widgets/controls",
            "_view_module_version": "1.5.0",
            "_view_name": "HTMLView",
            "description": "",
            "description_tooltip": null,
            "layout": "IPY_MODEL_0f53d852f8dc48af881572766350fd8a",
            "placeholder": "​",
            "style": "IPY_MODEL_e8313cc1f824449197ac972464841c66",
            "value": "Downloading: 100%"
          }
        },
        "acd88f42b18d4b7c9997406d6a985ed1": {
          "model_module": "@jupyter-widgets/controls",
          "model_name": "FloatProgressModel",
          "model_module_version": "1.5.0",
          "state": {
            "_dom_classes": [],
            "_model_module": "@jupyter-widgets/controls",
            "_model_module_version": "1.5.0",
            "_model_name": "FloatProgressModel",
            "_view_count": null,
            "_view_module": "@jupyter-widgets/controls",
            "_view_module_version": "1.5.0",
            "_view_name": "ProgressView",
            "bar_style": "success",
            "description": "",
            "description_tooltip": null,
            "layout": "IPY_MODEL_007d9b98c2784e3fa0a4d7c4dc2a81f5",
            "max": 231508,
            "min": 0,
            "orientation": "horizontal",
            "style": "IPY_MODEL_b9f8fc0b7b434da5bddb0c27e4a0846f",
            "value": 231508
          }
        },
        "9ddc33c75e82492bbbb4d43122d59df7": {
          "model_module": "@jupyter-widgets/controls",
          "model_name": "HTMLModel",
          "model_module_version": "1.5.0",
          "state": {
            "_dom_classes": [],
            "_model_module": "@jupyter-widgets/controls",
            "_model_module_version": "1.5.0",
            "_model_name": "HTMLModel",
            "_view_count": null,
            "_view_module": "@jupyter-widgets/controls",
            "_view_module_version": "1.5.0",
            "_view_name": "HTMLView",
            "description": "",
            "description_tooltip": null,
            "layout": "IPY_MODEL_28527aca406545b8b6d69e8fb817b7b0",
            "placeholder": "​",
            "style": "IPY_MODEL_43489e18b3e949f9ac93ca8c1c196276",
            "value": " 226k/226k [00:00&lt;00:00, 341kB/s]"
          }
        },
        "2dea16528dcd4a0d8b787d7eb60a918e": {
          "model_module": "@jupyter-widgets/base",
          "model_name": "LayoutModel",
          "model_module_version": "1.2.0",
          "state": {
            "_model_module": "@jupyter-widgets/base",
            "_model_module_version": "1.2.0",
            "_model_name": "LayoutModel",
            "_view_count": null,
            "_view_module": "@jupyter-widgets/base",
            "_view_module_version": "1.2.0",
            "_view_name": "LayoutView",
            "align_content": null,
            "align_items": null,
            "align_self": null,
            "border": null,
            "bottom": null,
            "display": null,
            "flex": null,
            "flex_flow": null,
            "grid_area": null,
            "grid_auto_columns": null,
            "grid_auto_flow": null,
            "grid_auto_rows": null,
            "grid_column": null,
            "grid_gap": null,
            "grid_row": null,
            "grid_template_areas": null,
            "grid_template_columns": null,
            "grid_template_rows": null,
            "height": null,
            "justify_content": null,
            "justify_items": null,
            "left": null,
            "margin": null,
            "max_height": null,
            "max_width": null,
            "min_height": null,
            "min_width": null,
            "object_fit": null,
            "object_position": null,
            "order": null,
            "overflow": null,
            "overflow_x": null,
            "overflow_y": null,
            "padding": null,
            "right": null,
            "top": null,
            "visibility": null,
            "width": null
          }
        },
        "0f53d852f8dc48af881572766350fd8a": {
          "model_module": "@jupyter-widgets/base",
          "model_name": "LayoutModel",
          "model_module_version": "1.2.0",
          "state": {
            "_model_module": "@jupyter-widgets/base",
            "_model_module_version": "1.2.0",
            "_model_name": "LayoutModel",
            "_view_count": null,
            "_view_module": "@jupyter-widgets/base",
            "_view_module_version": "1.2.0",
            "_view_name": "LayoutView",
            "align_content": null,
            "align_items": null,
            "align_self": null,
            "border": null,
            "bottom": null,
            "display": null,
            "flex": null,
            "flex_flow": null,
            "grid_area": null,
            "grid_auto_columns": null,
            "grid_auto_flow": null,
            "grid_auto_rows": null,
            "grid_column": null,
            "grid_gap": null,
            "grid_row": null,
            "grid_template_areas": null,
            "grid_template_columns": null,
            "grid_template_rows": null,
            "height": null,
            "justify_content": null,
            "justify_items": null,
            "left": null,
            "margin": null,
            "max_height": null,
            "max_width": null,
            "min_height": null,
            "min_width": null,
            "object_fit": null,
            "object_position": null,
            "order": null,
            "overflow": null,
            "overflow_x": null,
            "overflow_y": null,
            "padding": null,
            "right": null,
            "top": null,
            "visibility": null,
            "width": null
          }
        },
        "e8313cc1f824449197ac972464841c66": {
          "model_module": "@jupyter-widgets/controls",
          "model_name": "DescriptionStyleModel",
          "model_module_version": "1.5.0",
          "state": {
            "_model_module": "@jupyter-widgets/controls",
            "_model_module_version": "1.5.0",
            "_model_name": "DescriptionStyleModel",
            "_view_count": null,
            "_view_module": "@jupyter-widgets/base",
            "_view_module_version": "1.2.0",
            "_view_name": "StyleView",
            "description_width": ""
          }
        },
        "007d9b98c2784e3fa0a4d7c4dc2a81f5": {
          "model_module": "@jupyter-widgets/base",
          "model_name": "LayoutModel",
          "model_module_version": "1.2.0",
          "state": {
            "_model_module": "@jupyter-widgets/base",
            "_model_module_version": "1.2.0",
            "_model_name": "LayoutModel",
            "_view_count": null,
            "_view_module": "@jupyter-widgets/base",
            "_view_module_version": "1.2.0",
            "_view_name": "LayoutView",
            "align_content": null,
            "align_items": null,
            "align_self": null,
            "border": null,
            "bottom": null,
            "display": null,
            "flex": null,
            "flex_flow": null,
            "grid_area": null,
            "grid_auto_columns": null,
            "grid_auto_flow": null,
            "grid_auto_rows": null,
            "grid_column": null,
            "grid_gap": null,
            "grid_row": null,
            "grid_template_areas": null,
            "grid_template_columns": null,
            "grid_template_rows": null,
            "height": null,
            "justify_content": null,
            "justify_items": null,
            "left": null,
            "margin": null,
            "max_height": null,
            "max_width": null,
            "min_height": null,
            "min_width": null,
            "object_fit": null,
            "object_position": null,
            "order": null,
            "overflow": null,
            "overflow_x": null,
            "overflow_y": null,
            "padding": null,
            "right": null,
            "top": null,
            "visibility": null,
            "width": null
          }
        },
        "b9f8fc0b7b434da5bddb0c27e4a0846f": {
          "model_module": "@jupyter-widgets/controls",
          "model_name": "ProgressStyleModel",
          "model_module_version": "1.5.0",
          "state": {
            "_model_module": "@jupyter-widgets/controls",
            "_model_module_version": "1.5.0",
            "_model_name": "ProgressStyleModel",
            "_view_count": null,
            "_view_module": "@jupyter-widgets/base",
            "_view_module_version": "1.2.0",
            "_view_name": "StyleView",
            "bar_color": null,
            "description_width": ""
          }
        },
        "28527aca406545b8b6d69e8fb817b7b0": {
          "model_module": "@jupyter-widgets/base",
          "model_name": "LayoutModel",
          "model_module_version": "1.2.0",
          "state": {
            "_model_module": "@jupyter-widgets/base",
            "_model_module_version": "1.2.0",
            "_model_name": "LayoutModel",
            "_view_count": null,
            "_view_module": "@jupyter-widgets/base",
            "_view_module_version": "1.2.0",
            "_view_name": "LayoutView",
            "align_content": null,
            "align_items": null,
            "align_self": null,
            "border": null,
            "bottom": null,
            "display": null,
            "flex": null,
            "flex_flow": null,
            "grid_area": null,
            "grid_auto_columns": null,
            "grid_auto_flow": null,
            "grid_auto_rows": null,
            "grid_column": null,
            "grid_gap": null,
            "grid_row": null,
            "grid_template_areas": null,
            "grid_template_columns": null,
            "grid_template_rows": null,
            "height": null,
            "justify_content": null,
            "justify_items": null,
            "left": null,
            "margin": null,
            "max_height": null,
            "max_width": null,
            "min_height": null,
            "min_width": null,
            "object_fit": null,
            "object_position": null,
            "order": null,
            "overflow": null,
            "overflow_x": null,
            "overflow_y": null,
            "padding": null,
            "right": null,
            "top": null,
            "visibility": null,
            "width": null
          }
        },
        "43489e18b3e949f9ac93ca8c1c196276": {
          "model_module": "@jupyter-widgets/controls",
          "model_name": "DescriptionStyleModel",
          "model_module_version": "1.5.0",
          "state": {
            "_model_module": "@jupyter-widgets/controls",
            "_model_module_version": "1.5.0",
            "_model_name": "DescriptionStyleModel",
            "_view_count": null,
            "_view_module": "@jupyter-widgets/base",
            "_view_module_version": "1.2.0",
            "_view_name": "StyleView",
            "description_width": ""
          }
        },
        "9af54d4f5abd49fda6b77eddd187e66e": {
          "model_module": "@jupyter-widgets/controls",
          "model_name": "HBoxModel",
          "model_module_version": "1.5.0",
          "state": {
            "_dom_classes": [],
            "_model_module": "@jupyter-widgets/controls",
            "_model_module_version": "1.5.0",
            "_model_name": "HBoxModel",
            "_view_count": null,
            "_view_module": "@jupyter-widgets/controls",
            "_view_module_version": "1.5.0",
            "_view_name": "HBoxView",
            "box_style": "",
            "children": [
              "IPY_MODEL_70aed6b992004b4e9ac26a2c59430fa3",
              "IPY_MODEL_6fc59954ab6b49cbad7f3f867d640095",
              "IPY_MODEL_2ff30b5f5f314d23a50d06c3d780a3d0"
            ],
            "layout": "IPY_MODEL_bb4c7503f7ce40c5b819c8d9d0a046b1"
          }
        },
        "70aed6b992004b4e9ac26a2c59430fa3": {
          "model_module": "@jupyter-widgets/controls",
          "model_name": "HTMLModel",
          "model_module_version": "1.5.0",
          "state": {
            "_dom_classes": [],
            "_model_module": "@jupyter-widgets/controls",
            "_model_module_version": "1.5.0",
            "_model_name": "HTMLModel",
            "_view_count": null,
            "_view_module": "@jupyter-widgets/controls",
            "_view_module_version": "1.5.0",
            "_view_name": "HTMLView",
            "description": "",
            "description_tooltip": null,
            "layout": "IPY_MODEL_075186f4505d4ca3a861d3731f60c9b7",
            "placeholder": "​",
            "style": "IPY_MODEL_44f39ff17a23469f85548140e760cae3",
            "value": "Downloading: 100%"
          }
        },
        "6fc59954ab6b49cbad7f3f867d640095": {
          "model_module": "@jupyter-widgets/controls",
          "model_name": "FloatProgressModel",
          "model_module_version": "1.5.0",
          "state": {
            "_dom_classes": [],
            "_model_module": "@jupyter-widgets/controls",
            "_model_module_version": "1.5.0",
            "_model_name": "FloatProgressModel",
            "_view_count": null,
            "_view_module": "@jupyter-widgets/controls",
            "_view_module_version": "1.5.0",
            "_view_name": "ProgressView",
            "bar_style": "success",
            "description": "",
            "description_tooltip": null,
            "layout": "IPY_MODEL_758a2a39a32043eeb36137599c7c34d1",
            "max": 28,
            "min": 0,
            "orientation": "horizontal",
            "style": "IPY_MODEL_7182f647599a441cb84d8f1e9650ad6b",
            "value": 28
          }
        },
        "2ff30b5f5f314d23a50d06c3d780a3d0": {
          "model_module": "@jupyter-widgets/controls",
          "model_name": "HTMLModel",
          "model_module_version": "1.5.0",
          "state": {
            "_dom_classes": [],
            "_model_module": "@jupyter-widgets/controls",
            "_model_module_version": "1.5.0",
            "_model_name": "HTMLModel",
            "_view_count": null,
            "_view_module": "@jupyter-widgets/controls",
            "_view_module_version": "1.5.0",
            "_view_name": "HTMLView",
            "description": "",
            "description_tooltip": null,
            "layout": "IPY_MODEL_61deca388f8e44a3922ef71ce27b7e04",
            "placeholder": "​",
            "style": "IPY_MODEL_aff3e4071d4c486e9db455d0cc9a01cf",
            "value": " 28.0/28.0 [00:00&lt;00:00, 379B/s]"
          }
        },
        "bb4c7503f7ce40c5b819c8d9d0a046b1": {
          "model_module": "@jupyter-widgets/base",
          "model_name": "LayoutModel",
          "model_module_version": "1.2.0",
          "state": {
            "_model_module": "@jupyter-widgets/base",
            "_model_module_version": "1.2.0",
            "_model_name": "LayoutModel",
            "_view_count": null,
            "_view_module": "@jupyter-widgets/base",
            "_view_module_version": "1.2.0",
            "_view_name": "LayoutView",
            "align_content": null,
            "align_items": null,
            "align_self": null,
            "border": null,
            "bottom": null,
            "display": null,
            "flex": null,
            "flex_flow": null,
            "grid_area": null,
            "grid_auto_columns": null,
            "grid_auto_flow": null,
            "grid_auto_rows": null,
            "grid_column": null,
            "grid_gap": null,
            "grid_row": null,
            "grid_template_areas": null,
            "grid_template_columns": null,
            "grid_template_rows": null,
            "height": null,
            "justify_content": null,
            "justify_items": null,
            "left": null,
            "margin": null,
            "max_height": null,
            "max_width": null,
            "min_height": null,
            "min_width": null,
            "object_fit": null,
            "object_position": null,
            "order": null,
            "overflow": null,
            "overflow_x": null,
            "overflow_y": null,
            "padding": null,
            "right": null,
            "top": null,
            "visibility": null,
            "width": null
          }
        },
        "075186f4505d4ca3a861d3731f60c9b7": {
          "model_module": "@jupyter-widgets/base",
          "model_name": "LayoutModel",
          "model_module_version": "1.2.0",
          "state": {
            "_model_module": "@jupyter-widgets/base",
            "_model_module_version": "1.2.0",
            "_model_name": "LayoutModel",
            "_view_count": null,
            "_view_module": "@jupyter-widgets/base",
            "_view_module_version": "1.2.0",
            "_view_name": "LayoutView",
            "align_content": null,
            "align_items": null,
            "align_self": null,
            "border": null,
            "bottom": null,
            "display": null,
            "flex": null,
            "flex_flow": null,
            "grid_area": null,
            "grid_auto_columns": null,
            "grid_auto_flow": null,
            "grid_auto_rows": null,
            "grid_column": null,
            "grid_gap": null,
            "grid_row": null,
            "grid_template_areas": null,
            "grid_template_columns": null,
            "grid_template_rows": null,
            "height": null,
            "justify_content": null,
            "justify_items": null,
            "left": null,
            "margin": null,
            "max_height": null,
            "max_width": null,
            "min_height": null,
            "min_width": null,
            "object_fit": null,
            "object_position": null,
            "order": null,
            "overflow": null,
            "overflow_x": null,
            "overflow_y": null,
            "padding": null,
            "right": null,
            "top": null,
            "visibility": null,
            "width": null
          }
        },
        "44f39ff17a23469f85548140e760cae3": {
          "model_module": "@jupyter-widgets/controls",
          "model_name": "DescriptionStyleModel",
          "model_module_version": "1.5.0",
          "state": {
            "_model_module": "@jupyter-widgets/controls",
            "_model_module_version": "1.5.0",
            "_model_name": "DescriptionStyleModel",
            "_view_count": null,
            "_view_module": "@jupyter-widgets/base",
            "_view_module_version": "1.2.0",
            "_view_name": "StyleView",
            "description_width": ""
          }
        },
        "758a2a39a32043eeb36137599c7c34d1": {
          "model_module": "@jupyter-widgets/base",
          "model_name": "LayoutModel",
          "model_module_version": "1.2.0",
          "state": {
            "_model_module": "@jupyter-widgets/base",
            "_model_module_version": "1.2.0",
            "_model_name": "LayoutModel",
            "_view_count": null,
            "_view_module": "@jupyter-widgets/base",
            "_view_module_version": "1.2.0",
            "_view_name": "LayoutView",
            "align_content": null,
            "align_items": null,
            "align_self": null,
            "border": null,
            "bottom": null,
            "display": null,
            "flex": null,
            "flex_flow": null,
            "grid_area": null,
            "grid_auto_columns": null,
            "grid_auto_flow": null,
            "grid_auto_rows": null,
            "grid_column": null,
            "grid_gap": null,
            "grid_row": null,
            "grid_template_areas": null,
            "grid_template_columns": null,
            "grid_template_rows": null,
            "height": null,
            "justify_content": null,
            "justify_items": null,
            "left": null,
            "margin": null,
            "max_height": null,
            "max_width": null,
            "min_height": null,
            "min_width": null,
            "object_fit": null,
            "object_position": null,
            "order": null,
            "overflow": null,
            "overflow_x": null,
            "overflow_y": null,
            "padding": null,
            "right": null,
            "top": null,
            "visibility": null,
            "width": null
          }
        },
        "7182f647599a441cb84d8f1e9650ad6b": {
          "model_module": "@jupyter-widgets/controls",
          "model_name": "ProgressStyleModel",
          "model_module_version": "1.5.0",
          "state": {
            "_model_module": "@jupyter-widgets/controls",
            "_model_module_version": "1.5.0",
            "_model_name": "ProgressStyleModel",
            "_view_count": null,
            "_view_module": "@jupyter-widgets/base",
            "_view_module_version": "1.2.0",
            "_view_name": "StyleView",
            "bar_color": null,
            "description_width": ""
          }
        },
        "61deca388f8e44a3922ef71ce27b7e04": {
          "model_module": "@jupyter-widgets/base",
          "model_name": "LayoutModel",
          "model_module_version": "1.2.0",
          "state": {
            "_model_module": "@jupyter-widgets/base",
            "_model_module_version": "1.2.0",
            "_model_name": "LayoutModel",
            "_view_count": null,
            "_view_module": "@jupyter-widgets/base",
            "_view_module_version": "1.2.0",
            "_view_name": "LayoutView",
            "align_content": null,
            "align_items": null,
            "align_self": null,
            "border": null,
            "bottom": null,
            "display": null,
            "flex": null,
            "flex_flow": null,
            "grid_area": null,
            "grid_auto_columns": null,
            "grid_auto_flow": null,
            "grid_auto_rows": null,
            "grid_column": null,
            "grid_gap": null,
            "grid_row": null,
            "grid_template_areas": null,
            "grid_template_columns": null,
            "grid_template_rows": null,
            "height": null,
            "justify_content": null,
            "justify_items": null,
            "left": null,
            "margin": null,
            "max_height": null,
            "max_width": null,
            "min_height": null,
            "min_width": null,
            "object_fit": null,
            "object_position": null,
            "order": null,
            "overflow": null,
            "overflow_x": null,
            "overflow_y": null,
            "padding": null,
            "right": null,
            "top": null,
            "visibility": null,
            "width": null
          }
        },
        "aff3e4071d4c486e9db455d0cc9a01cf": {
          "model_module": "@jupyter-widgets/controls",
          "model_name": "DescriptionStyleModel",
          "model_module_version": "1.5.0",
          "state": {
            "_model_module": "@jupyter-widgets/controls",
            "_model_module_version": "1.5.0",
            "_model_name": "DescriptionStyleModel",
            "_view_count": null,
            "_view_module": "@jupyter-widgets/base",
            "_view_module_version": "1.2.0",
            "_view_name": "StyleView",
            "description_width": ""
          }
        },
        "bc249dd3e3be4290b0cfd428ccff4074": {
          "model_module": "@jupyter-widgets/controls",
          "model_name": "HBoxModel",
          "model_module_version": "1.5.0",
          "state": {
            "_dom_classes": [],
            "_model_module": "@jupyter-widgets/controls",
            "_model_module_version": "1.5.0",
            "_model_name": "HBoxModel",
            "_view_count": null,
            "_view_module": "@jupyter-widgets/controls",
            "_view_module_version": "1.5.0",
            "_view_name": "HBoxView",
            "box_style": "",
            "children": [
              "IPY_MODEL_3bff133884374b3baf77d440f2be9e29",
              "IPY_MODEL_cb9428606d904684a42a473b79241e0c",
              "IPY_MODEL_2760e2dded444b8198ccd83b0ec0e668"
            ],
            "layout": "IPY_MODEL_10b70a93219b43e685a2e20248a89dfd"
          }
        },
        "3bff133884374b3baf77d440f2be9e29": {
          "model_module": "@jupyter-widgets/controls",
          "model_name": "HTMLModel",
          "model_module_version": "1.5.0",
          "state": {
            "_dom_classes": [],
            "_model_module": "@jupyter-widgets/controls",
            "_model_module_version": "1.5.0",
            "_model_name": "HTMLModel",
            "_view_count": null,
            "_view_module": "@jupyter-widgets/controls",
            "_view_module_version": "1.5.0",
            "_view_name": "HTMLView",
            "description": "",
            "description_tooltip": null,
            "layout": "IPY_MODEL_36317ce9bf3c446ebfc225d268d87be9",
            "placeholder": "​",
            "style": "IPY_MODEL_89c71fc680ee4a82b5191732ce78111d",
            "value": "Downloading: 100%"
          }
        },
        "cb9428606d904684a42a473b79241e0c": {
          "model_module": "@jupyter-widgets/controls",
          "model_name": "FloatProgressModel",
          "model_module_version": "1.5.0",
          "state": {
            "_dom_classes": [],
            "_model_module": "@jupyter-widgets/controls",
            "_model_module_version": "1.5.0",
            "_model_name": "FloatProgressModel",
            "_view_count": null,
            "_view_module": "@jupyter-widgets/controls",
            "_view_module_version": "1.5.0",
            "_view_name": "ProgressView",
            "bar_style": "success",
            "description": "",
            "description_tooltip": null,
            "layout": "IPY_MODEL_8b2d0ea62dee420895bbe029a7c441dd",
            "max": 571,
            "min": 0,
            "orientation": "horizontal",
            "style": "IPY_MODEL_9368574135b847699415f4511a8b2f82",
            "value": 571
          }
        },
        "2760e2dded444b8198ccd83b0ec0e668": {
          "model_module": "@jupyter-widgets/controls",
          "model_name": "HTMLModel",
          "model_module_version": "1.5.0",
          "state": {
            "_dom_classes": [],
            "_model_module": "@jupyter-widgets/controls",
            "_model_module_version": "1.5.0",
            "_model_name": "HTMLModel",
            "_view_count": null,
            "_view_module": "@jupyter-widgets/controls",
            "_view_module_version": "1.5.0",
            "_view_name": "HTMLView",
            "description": "",
            "description_tooltip": null,
            "layout": "IPY_MODEL_2309d53726484db9a6c7c1a680306587",
            "placeholder": "​",
            "style": "IPY_MODEL_d9db85abbbf545708fef0af1004d6552",
            "value": " 571/571 [00:00&lt;00:00, 6.37kB/s]"
          }
        },
        "10b70a93219b43e685a2e20248a89dfd": {
          "model_module": "@jupyter-widgets/base",
          "model_name": "LayoutModel",
          "model_module_version": "1.2.0",
          "state": {
            "_model_module": "@jupyter-widgets/base",
            "_model_module_version": "1.2.0",
            "_model_name": "LayoutModel",
            "_view_count": null,
            "_view_module": "@jupyter-widgets/base",
            "_view_module_version": "1.2.0",
            "_view_name": "LayoutView",
            "align_content": null,
            "align_items": null,
            "align_self": null,
            "border": null,
            "bottom": null,
            "display": null,
            "flex": null,
            "flex_flow": null,
            "grid_area": null,
            "grid_auto_columns": null,
            "grid_auto_flow": null,
            "grid_auto_rows": null,
            "grid_column": null,
            "grid_gap": null,
            "grid_row": null,
            "grid_template_areas": null,
            "grid_template_columns": null,
            "grid_template_rows": null,
            "height": null,
            "justify_content": null,
            "justify_items": null,
            "left": null,
            "margin": null,
            "max_height": null,
            "max_width": null,
            "min_height": null,
            "min_width": null,
            "object_fit": null,
            "object_position": null,
            "order": null,
            "overflow": null,
            "overflow_x": null,
            "overflow_y": null,
            "padding": null,
            "right": null,
            "top": null,
            "visibility": null,
            "width": null
          }
        },
        "36317ce9bf3c446ebfc225d268d87be9": {
          "model_module": "@jupyter-widgets/base",
          "model_name": "LayoutModel",
          "model_module_version": "1.2.0",
          "state": {
            "_model_module": "@jupyter-widgets/base",
            "_model_module_version": "1.2.0",
            "_model_name": "LayoutModel",
            "_view_count": null,
            "_view_module": "@jupyter-widgets/base",
            "_view_module_version": "1.2.0",
            "_view_name": "LayoutView",
            "align_content": null,
            "align_items": null,
            "align_self": null,
            "border": null,
            "bottom": null,
            "display": null,
            "flex": null,
            "flex_flow": null,
            "grid_area": null,
            "grid_auto_columns": null,
            "grid_auto_flow": null,
            "grid_auto_rows": null,
            "grid_column": null,
            "grid_gap": null,
            "grid_row": null,
            "grid_template_areas": null,
            "grid_template_columns": null,
            "grid_template_rows": null,
            "height": null,
            "justify_content": null,
            "justify_items": null,
            "left": null,
            "margin": null,
            "max_height": null,
            "max_width": null,
            "min_height": null,
            "min_width": null,
            "object_fit": null,
            "object_position": null,
            "order": null,
            "overflow": null,
            "overflow_x": null,
            "overflow_y": null,
            "padding": null,
            "right": null,
            "top": null,
            "visibility": null,
            "width": null
          }
        },
        "89c71fc680ee4a82b5191732ce78111d": {
          "model_module": "@jupyter-widgets/controls",
          "model_name": "DescriptionStyleModel",
          "model_module_version": "1.5.0",
          "state": {
            "_model_module": "@jupyter-widgets/controls",
            "_model_module_version": "1.5.0",
            "_model_name": "DescriptionStyleModel",
            "_view_count": null,
            "_view_module": "@jupyter-widgets/base",
            "_view_module_version": "1.2.0",
            "_view_name": "StyleView",
            "description_width": ""
          }
        },
        "8b2d0ea62dee420895bbe029a7c441dd": {
          "model_module": "@jupyter-widgets/base",
          "model_name": "LayoutModel",
          "model_module_version": "1.2.0",
          "state": {
            "_model_module": "@jupyter-widgets/base",
            "_model_module_version": "1.2.0",
            "_model_name": "LayoutModel",
            "_view_count": null,
            "_view_module": "@jupyter-widgets/base",
            "_view_module_version": "1.2.0",
            "_view_name": "LayoutView",
            "align_content": null,
            "align_items": null,
            "align_self": null,
            "border": null,
            "bottom": null,
            "display": null,
            "flex": null,
            "flex_flow": null,
            "grid_area": null,
            "grid_auto_columns": null,
            "grid_auto_flow": null,
            "grid_auto_rows": null,
            "grid_column": null,
            "grid_gap": null,
            "grid_row": null,
            "grid_template_areas": null,
            "grid_template_columns": null,
            "grid_template_rows": null,
            "height": null,
            "justify_content": null,
            "justify_items": null,
            "left": null,
            "margin": null,
            "max_height": null,
            "max_width": null,
            "min_height": null,
            "min_width": null,
            "object_fit": null,
            "object_position": null,
            "order": null,
            "overflow": null,
            "overflow_x": null,
            "overflow_y": null,
            "padding": null,
            "right": null,
            "top": null,
            "visibility": null,
            "width": null
          }
        },
        "9368574135b847699415f4511a8b2f82": {
          "model_module": "@jupyter-widgets/controls",
          "model_name": "ProgressStyleModel",
          "model_module_version": "1.5.0",
          "state": {
            "_model_module": "@jupyter-widgets/controls",
            "_model_module_version": "1.5.0",
            "_model_name": "ProgressStyleModel",
            "_view_count": null,
            "_view_module": "@jupyter-widgets/base",
            "_view_module_version": "1.2.0",
            "_view_name": "StyleView",
            "bar_color": null,
            "description_width": ""
          }
        },
        "2309d53726484db9a6c7c1a680306587": {
          "model_module": "@jupyter-widgets/base",
          "model_name": "LayoutModel",
          "model_module_version": "1.2.0",
          "state": {
            "_model_module": "@jupyter-widgets/base",
            "_model_module_version": "1.2.0",
            "_model_name": "LayoutModel",
            "_view_count": null,
            "_view_module": "@jupyter-widgets/base",
            "_view_module_version": "1.2.0",
            "_view_name": "LayoutView",
            "align_content": null,
            "align_items": null,
            "align_self": null,
            "border": null,
            "bottom": null,
            "display": null,
            "flex": null,
            "flex_flow": null,
            "grid_area": null,
            "grid_auto_columns": null,
            "grid_auto_flow": null,
            "grid_auto_rows": null,
            "grid_column": null,
            "grid_gap": null,
            "grid_row": null,
            "grid_template_areas": null,
            "grid_template_columns": null,
            "grid_template_rows": null,
            "height": null,
            "justify_content": null,
            "justify_items": null,
            "left": null,
            "margin": null,
            "max_height": null,
            "max_width": null,
            "min_height": null,
            "min_width": null,
            "object_fit": null,
            "object_position": null,
            "order": null,
            "overflow": null,
            "overflow_x": null,
            "overflow_y": null,
            "padding": null,
            "right": null,
            "top": null,
            "visibility": null,
            "width": null
          }
        },
        "d9db85abbbf545708fef0af1004d6552": {
          "model_module": "@jupyter-widgets/controls",
          "model_name": "DescriptionStyleModel",
          "model_module_version": "1.5.0",
          "state": {
            "_model_module": "@jupyter-widgets/controls",
            "_model_module_version": "1.5.0",
            "_model_name": "DescriptionStyleModel",
            "_view_count": null,
            "_view_module": "@jupyter-widgets/base",
            "_view_module_version": "1.2.0",
            "_view_name": "StyleView",
            "description_width": ""
          }
        },
        "211c4b2b3caf4f9c98eb7be31d61a53a": {
          "model_module": "@jupyter-widgets/controls",
          "model_name": "HBoxModel",
          "model_module_version": "1.5.0",
          "state": {
            "_dom_classes": [],
            "_model_module": "@jupyter-widgets/controls",
            "_model_module_version": "1.5.0",
            "_model_name": "HBoxModel",
            "_view_count": null,
            "_view_module": "@jupyter-widgets/controls",
            "_view_module_version": "1.5.0",
            "_view_name": "HBoxView",
            "box_style": "",
            "children": [
              "IPY_MODEL_c640b403eded40b5a666e75474739761",
              "IPY_MODEL_40215e6f6fa44830acc525efc9dfb996",
              "IPY_MODEL_9a759a5f723544ea9ddfa0f670ad3c90"
            ],
            "layout": "IPY_MODEL_efa28c3faa064cea95f130c13acd01c1"
          }
        },
        "c640b403eded40b5a666e75474739761": {
          "model_module": "@jupyter-widgets/controls",
          "model_name": "HTMLModel",
          "model_module_version": "1.5.0",
          "state": {
            "_dom_classes": [],
            "_model_module": "@jupyter-widgets/controls",
            "_model_module_version": "1.5.0",
            "_model_name": "HTMLModel",
            "_view_count": null,
            "_view_module": "@jupyter-widgets/controls",
            "_view_module_version": "1.5.0",
            "_view_name": "HTMLView",
            "description": "",
            "description_tooltip": null,
            "layout": "IPY_MODEL_0d2b2615cc5540aebf0a8e58c9a469dd",
            "placeholder": "​",
            "style": "IPY_MODEL_a4505505b6b6498d85b026ac8e58932f",
            "value": "Downloading: 100%"
          }
        },
        "40215e6f6fa44830acc525efc9dfb996": {
          "model_module": "@jupyter-widgets/controls",
          "model_name": "FloatProgressModel",
          "model_module_version": "1.5.0",
          "state": {
            "_dom_classes": [],
            "_model_module": "@jupyter-widgets/controls",
            "_model_module_version": "1.5.0",
            "_model_name": "FloatProgressModel",
            "_view_count": null,
            "_view_module": "@jupyter-widgets/controls",
            "_view_module_version": "1.5.0",
            "_view_name": "ProgressView",
            "bar_style": "success",
            "description": "",
            "description_tooltip": null,
            "layout": "IPY_MODEL_77d733db9c574ac1ad37619d10143272",
            "max": 570,
            "min": 0,
            "orientation": "horizontal",
            "style": "IPY_MODEL_ad13877d0fa24256bddb2c536a63d53c",
            "value": 570
          }
        },
        "9a759a5f723544ea9ddfa0f670ad3c90": {
          "model_module": "@jupyter-widgets/controls",
          "model_name": "HTMLModel",
          "model_module_version": "1.5.0",
          "state": {
            "_dom_classes": [],
            "_model_module": "@jupyter-widgets/controls",
            "_model_module_version": "1.5.0",
            "_model_name": "HTMLModel",
            "_view_count": null,
            "_view_module": "@jupyter-widgets/controls",
            "_view_module_version": "1.5.0",
            "_view_name": "HTMLView",
            "description": "",
            "description_tooltip": null,
            "layout": "IPY_MODEL_d52b20dcffac47fdb87ba8140d88e2b7",
            "placeholder": "​",
            "style": "IPY_MODEL_5b188f27bc5248c39c6ba200f39154c3",
            "value": " 570/570 [00:00&lt;00:00, 18.4kB/s]"
          }
        },
        "efa28c3faa064cea95f130c13acd01c1": {
          "model_module": "@jupyter-widgets/base",
          "model_name": "LayoutModel",
          "model_module_version": "1.2.0",
          "state": {
            "_model_module": "@jupyter-widgets/base",
            "_model_module_version": "1.2.0",
            "_model_name": "LayoutModel",
            "_view_count": null,
            "_view_module": "@jupyter-widgets/base",
            "_view_module_version": "1.2.0",
            "_view_name": "LayoutView",
            "align_content": null,
            "align_items": null,
            "align_self": null,
            "border": null,
            "bottom": null,
            "display": null,
            "flex": null,
            "flex_flow": null,
            "grid_area": null,
            "grid_auto_columns": null,
            "grid_auto_flow": null,
            "grid_auto_rows": null,
            "grid_column": null,
            "grid_gap": null,
            "grid_row": null,
            "grid_template_areas": null,
            "grid_template_columns": null,
            "grid_template_rows": null,
            "height": null,
            "justify_content": null,
            "justify_items": null,
            "left": null,
            "margin": null,
            "max_height": null,
            "max_width": null,
            "min_height": null,
            "min_width": null,
            "object_fit": null,
            "object_position": null,
            "order": null,
            "overflow": null,
            "overflow_x": null,
            "overflow_y": null,
            "padding": null,
            "right": null,
            "top": null,
            "visibility": null,
            "width": null
          }
        },
        "0d2b2615cc5540aebf0a8e58c9a469dd": {
          "model_module": "@jupyter-widgets/base",
          "model_name": "LayoutModel",
          "model_module_version": "1.2.0",
          "state": {
            "_model_module": "@jupyter-widgets/base",
            "_model_module_version": "1.2.0",
            "_model_name": "LayoutModel",
            "_view_count": null,
            "_view_module": "@jupyter-widgets/base",
            "_view_module_version": "1.2.0",
            "_view_name": "LayoutView",
            "align_content": null,
            "align_items": null,
            "align_self": null,
            "border": null,
            "bottom": null,
            "display": null,
            "flex": null,
            "flex_flow": null,
            "grid_area": null,
            "grid_auto_columns": null,
            "grid_auto_flow": null,
            "grid_auto_rows": null,
            "grid_column": null,
            "grid_gap": null,
            "grid_row": null,
            "grid_template_areas": null,
            "grid_template_columns": null,
            "grid_template_rows": null,
            "height": null,
            "justify_content": null,
            "justify_items": null,
            "left": null,
            "margin": null,
            "max_height": null,
            "max_width": null,
            "min_height": null,
            "min_width": null,
            "object_fit": null,
            "object_position": null,
            "order": null,
            "overflow": null,
            "overflow_x": null,
            "overflow_y": null,
            "padding": null,
            "right": null,
            "top": null,
            "visibility": null,
            "width": null
          }
        },
        "a4505505b6b6498d85b026ac8e58932f": {
          "model_module": "@jupyter-widgets/controls",
          "model_name": "DescriptionStyleModel",
          "model_module_version": "1.5.0",
          "state": {
            "_model_module": "@jupyter-widgets/controls",
            "_model_module_version": "1.5.0",
            "_model_name": "DescriptionStyleModel",
            "_view_count": null,
            "_view_module": "@jupyter-widgets/base",
            "_view_module_version": "1.2.0",
            "_view_name": "StyleView",
            "description_width": ""
          }
        },
        "77d733db9c574ac1ad37619d10143272": {
          "model_module": "@jupyter-widgets/base",
          "model_name": "LayoutModel",
          "model_module_version": "1.2.0",
          "state": {
            "_model_module": "@jupyter-widgets/base",
            "_model_module_version": "1.2.0",
            "_model_name": "LayoutModel",
            "_view_count": null,
            "_view_module": "@jupyter-widgets/base",
            "_view_module_version": "1.2.0",
            "_view_name": "LayoutView",
            "align_content": null,
            "align_items": null,
            "align_self": null,
            "border": null,
            "bottom": null,
            "display": null,
            "flex": null,
            "flex_flow": null,
            "grid_area": null,
            "grid_auto_columns": null,
            "grid_auto_flow": null,
            "grid_auto_rows": null,
            "grid_column": null,
            "grid_gap": null,
            "grid_row": null,
            "grid_template_areas": null,
            "grid_template_columns": null,
            "grid_template_rows": null,
            "height": null,
            "justify_content": null,
            "justify_items": null,
            "left": null,
            "margin": null,
            "max_height": null,
            "max_width": null,
            "min_height": null,
            "min_width": null,
            "object_fit": null,
            "object_position": null,
            "order": null,
            "overflow": null,
            "overflow_x": null,
            "overflow_y": null,
            "padding": null,
            "right": null,
            "top": null,
            "visibility": null,
            "width": null
          }
        },
        "ad13877d0fa24256bddb2c536a63d53c": {
          "model_module": "@jupyter-widgets/controls",
          "model_name": "ProgressStyleModel",
          "model_module_version": "1.5.0",
          "state": {
            "_model_module": "@jupyter-widgets/controls",
            "_model_module_version": "1.5.0",
            "_model_name": "ProgressStyleModel",
            "_view_count": null,
            "_view_module": "@jupyter-widgets/base",
            "_view_module_version": "1.2.0",
            "_view_name": "StyleView",
            "bar_color": null,
            "description_width": ""
          }
        },
        "d52b20dcffac47fdb87ba8140d88e2b7": {
          "model_module": "@jupyter-widgets/base",
          "model_name": "LayoutModel",
          "model_module_version": "1.2.0",
          "state": {
            "_model_module": "@jupyter-widgets/base",
            "_model_module_version": "1.2.0",
            "_model_name": "LayoutModel",
            "_view_count": null,
            "_view_module": "@jupyter-widgets/base",
            "_view_module_version": "1.2.0",
            "_view_name": "LayoutView",
            "align_content": null,
            "align_items": null,
            "align_self": null,
            "border": null,
            "bottom": null,
            "display": null,
            "flex": null,
            "flex_flow": null,
            "grid_area": null,
            "grid_auto_columns": null,
            "grid_auto_flow": null,
            "grid_auto_rows": null,
            "grid_column": null,
            "grid_gap": null,
            "grid_row": null,
            "grid_template_areas": null,
            "grid_template_columns": null,
            "grid_template_rows": null,
            "height": null,
            "justify_content": null,
            "justify_items": null,
            "left": null,
            "margin": null,
            "max_height": null,
            "max_width": null,
            "min_height": null,
            "min_width": null,
            "object_fit": null,
            "object_position": null,
            "order": null,
            "overflow": null,
            "overflow_x": null,
            "overflow_y": null,
            "padding": null,
            "right": null,
            "top": null,
            "visibility": null,
            "width": null
          }
        },
        "5b188f27bc5248c39c6ba200f39154c3": {
          "model_module": "@jupyter-widgets/controls",
          "model_name": "DescriptionStyleModel",
          "model_module_version": "1.5.0",
          "state": {
            "_model_module": "@jupyter-widgets/controls",
            "_model_module_version": "1.5.0",
            "_model_name": "DescriptionStyleModel",
            "_view_count": null,
            "_view_module": "@jupyter-widgets/base",
            "_view_module_version": "1.2.0",
            "_view_name": "StyleView",
            "description_width": ""
          }
        },
        "bd7d97d846284d9fbcf5ea02dc18a0b9": {
          "model_module": "@jupyter-widgets/controls",
          "model_name": "HBoxModel",
          "model_module_version": "1.5.0",
          "state": {
            "_dom_classes": [],
            "_model_module": "@jupyter-widgets/controls",
            "_model_module_version": "1.5.0",
            "_model_name": "HBoxModel",
            "_view_count": null,
            "_view_module": "@jupyter-widgets/controls",
            "_view_module_version": "1.5.0",
            "_view_name": "HBoxView",
            "box_style": "",
            "children": [
              "IPY_MODEL_695c696d2fa04bb38299cff0267a48f9",
              "IPY_MODEL_981f88ab21c0410892a042b89a1b6bf5",
              "IPY_MODEL_8c4dd565ae3248bb81a179e216810b5c"
            ],
            "layout": "IPY_MODEL_f84f152d80204eebbe7cb63b4c8320f0"
          }
        },
        "695c696d2fa04bb38299cff0267a48f9": {
          "model_module": "@jupyter-widgets/controls",
          "model_name": "HTMLModel",
          "model_module_version": "1.5.0",
          "state": {
            "_dom_classes": [],
            "_model_module": "@jupyter-widgets/controls",
            "_model_module_version": "1.5.0",
            "_model_name": "HTMLModel",
            "_view_count": null,
            "_view_module": "@jupyter-widgets/controls",
            "_view_module_version": "1.5.0",
            "_view_name": "HTMLView",
            "description": "",
            "description_tooltip": null,
            "layout": "IPY_MODEL_23c318eb12354f6d8518343b7eb4396c",
            "placeholder": "​",
            "style": "IPY_MODEL_287e8dcc326740a69e4796b90d698535",
            "value": "Downloading: 100%"
          }
        },
        "981f88ab21c0410892a042b89a1b6bf5": {
          "model_module": "@jupyter-widgets/controls",
          "model_name": "FloatProgressModel",
          "model_module_version": "1.5.0",
          "state": {
            "_dom_classes": [],
            "_model_module": "@jupyter-widgets/controls",
            "_model_module_version": "1.5.0",
            "_model_name": "FloatProgressModel",
            "_view_count": null,
            "_view_module": "@jupyter-widgets/controls",
            "_view_module_version": "1.5.0",
            "_view_name": "ProgressView",
            "bar_style": "success",
            "description": "",
            "description_tooltip": null,
            "layout": "IPY_MODEL_70cbf4e5af1941578d69bf4bc7d16930",
            "max": 536063208,
            "min": 0,
            "orientation": "horizontal",
            "style": "IPY_MODEL_782f4a862cbf4bdabbd8c3150576a539",
            "value": 536063208
          }
        },
        "8c4dd565ae3248bb81a179e216810b5c": {
          "model_module": "@jupyter-widgets/controls",
          "model_name": "HTMLModel",
          "model_module_version": "1.5.0",
          "state": {
            "_dom_classes": [],
            "_model_module": "@jupyter-widgets/controls",
            "_model_module_version": "1.5.0",
            "_model_name": "HTMLModel",
            "_view_count": null,
            "_view_module": "@jupyter-widgets/controls",
            "_view_module_version": "1.5.0",
            "_view_name": "HTMLView",
            "description": "",
            "description_tooltip": null,
            "layout": "IPY_MODEL_94e0bedd0d224c18aa12ac162badf04d",
            "placeholder": "​",
            "style": "IPY_MODEL_049a213e409e4b59a938d5d7a62b85d9",
            "value": " 511M/511M [00:19&lt;00:00, 20.4MB/s]"
          }
        },
        "f84f152d80204eebbe7cb63b4c8320f0": {
          "model_module": "@jupyter-widgets/base",
          "model_name": "LayoutModel",
          "model_module_version": "1.2.0",
          "state": {
            "_model_module": "@jupyter-widgets/base",
            "_model_module_version": "1.2.0",
            "_model_name": "LayoutModel",
            "_view_count": null,
            "_view_module": "@jupyter-widgets/base",
            "_view_module_version": "1.2.0",
            "_view_name": "LayoutView",
            "align_content": null,
            "align_items": null,
            "align_self": null,
            "border": null,
            "bottom": null,
            "display": null,
            "flex": null,
            "flex_flow": null,
            "grid_area": null,
            "grid_auto_columns": null,
            "grid_auto_flow": null,
            "grid_auto_rows": null,
            "grid_column": null,
            "grid_gap": null,
            "grid_row": null,
            "grid_template_areas": null,
            "grid_template_columns": null,
            "grid_template_rows": null,
            "height": null,
            "justify_content": null,
            "justify_items": null,
            "left": null,
            "margin": null,
            "max_height": null,
            "max_width": null,
            "min_height": null,
            "min_width": null,
            "object_fit": null,
            "object_position": null,
            "order": null,
            "overflow": null,
            "overflow_x": null,
            "overflow_y": null,
            "padding": null,
            "right": null,
            "top": null,
            "visibility": null,
            "width": null
          }
        },
        "23c318eb12354f6d8518343b7eb4396c": {
          "model_module": "@jupyter-widgets/base",
          "model_name": "LayoutModel",
          "model_module_version": "1.2.0",
          "state": {
            "_model_module": "@jupyter-widgets/base",
            "_model_module_version": "1.2.0",
            "_model_name": "LayoutModel",
            "_view_count": null,
            "_view_module": "@jupyter-widgets/base",
            "_view_module_version": "1.2.0",
            "_view_name": "LayoutView",
            "align_content": null,
            "align_items": null,
            "align_self": null,
            "border": null,
            "bottom": null,
            "display": null,
            "flex": null,
            "flex_flow": null,
            "grid_area": null,
            "grid_auto_columns": null,
            "grid_auto_flow": null,
            "grid_auto_rows": null,
            "grid_column": null,
            "grid_gap": null,
            "grid_row": null,
            "grid_template_areas": null,
            "grid_template_columns": null,
            "grid_template_rows": null,
            "height": null,
            "justify_content": null,
            "justify_items": null,
            "left": null,
            "margin": null,
            "max_height": null,
            "max_width": null,
            "min_height": null,
            "min_width": null,
            "object_fit": null,
            "object_position": null,
            "order": null,
            "overflow": null,
            "overflow_x": null,
            "overflow_y": null,
            "padding": null,
            "right": null,
            "top": null,
            "visibility": null,
            "width": null
          }
        },
        "287e8dcc326740a69e4796b90d698535": {
          "model_module": "@jupyter-widgets/controls",
          "model_name": "DescriptionStyleModel",
          "model_module_version": "1.5.0",
          "state": {
            "_model_module": "@jupyter-widgets/controls",
            "_model_module_version": "1.5.0",
            "_model_name": "DescriptionStyleModel",
            "_view_count": null,
            "_view_module": "@jupyter-widgets/base",
            "_view_module_version": "1.2.0",
            "_view_name": "StyleView",
            "description_width": ""
          }
        },
        "70cbf4e5af1941578d69bf4bc7d16930": {
          "model_module": "@jupyter-widgets/base",
          "model_name": "LayoutModel",
          "model_module_version": "1.2.0",
          "state": {
            "_model_module": "@jupyter-widgets/base",
            "_model_module_version": "1.2.0",
            "_model_name": "LayoutModel",
            "_view_count": null,
            "_view_module": "@jupyter-widgets/base",
            "_view_module_version": "1.2.0",
            "_view_name": "LayoutView",
            "align_content": null,
            "align_items": null,
            "align_self": null,
            "border": null,
            "bottom": null,
            "display": null,
            "flex": null,
            "flex_flow": null,
            "grid_area": null,
            "grid_auto_columns": null,
            "grid_auto_flow": null,
            "grid_auto_rows": null,
            "grid_column": null,
            "grid_gap": null,
            "grid_row": null,
            "grid_template_areas": null,
            "grid_template_columns": null,
            "grid_template_rows": null,
            "height": null,
            "justify_content": null,
            "justify_items": null,
            "left": null,
            "margin": null,
            "max_height": null,
            "max_width": null,
            "min_height": null,
            "min_width": null,
            "object_fit": null,
            "object_position": null,
            "order": null,
            "overflow": null,
            "overflow_x": null,
            "overflow_y": null,
            "padding": null,
            "right": null,
            "top": null,
            "visibility": null,
            "width": null
          }
        },
        "782f4a862cbf4bdabbd8c3150576a539": {
          "model_module": "@jupyter-widgets/controls",
          "model_name": "ProgressStyleModel",
          "model_module_version": "1.5.0",
          "state": {
            "_model_module": "@jupyter-widgets/controls",
            "_model_module_version": "1.5.0",
            "_model_name": "ProgressStyleModel",
            "_view_count": null,
            "_view_module": "@jupyter-widgets/base",
            "_view_module_version": "1.2.0",
            "_view_name": "StyleView",
            "bar_color": null,
            "description_width": ""
          }
        },
        "94e0bedd0d224c18aa12ac162badf04d": {
          "model_module": "@jupyter-widgets/base",
          "model_name": "LayoutModel",
          "model_module_version": "1.2.0",
          "state": {
            "_model_module": "@jupyter-widgets/base",
            "_model_module_version": "1.2.0",
            "_model_name": "LayoutModel",
            "_view_count": null,
            "_view_module": "@jupyter-widgets/base",
            "_view_module_version": "1.2.0",
            "_view_name": "LayoutView",
            "align_content": null,
            "align_items": null,
            "align_self": null,
            "border": null,
            "bottom": null,
            "display": null,
            "flex": null,
            "flex_flow": null,
            "grid_area": null,
            "grid_auto_columns": null,
            "grid_auto_flow": null,
            "grid_auto_rows": null,
            "grid_column": null,
            "grid_gap": null,
            "grid_row": null,
            "grid_template_areas": null,
            "grid_template_columns": null,
            "grid_template_rows": null,
            "height": null,
            "justify_content": null,
            "justify_items": null,
            "left": null,
            "margin": null,
            "max_height": null,
            "max_width": null,
            "min_height": null,
            "min_width": null,
            "object_fit": null,
            "object_position": null,
            "order": null,
            "overflow": null,
            "overflow_x": null,
            "overflow_y": null,
            "padding": null,
            "right": null,
            "top": null,
            "visibility": null,
            "width": null
          }
        },
        "049a213e409e4b59a938d5d7a62b85d9": {
          "model_module": "@jupyter-widgets/controls",
          "model_name": "DescriptionStyleModel",
          "model_module_version": "1.5.0",
          "state": {
            "_model_module": "@jupyter-widgets/controls",
            "_model_module_version": "1.5.0",
            "_model_name": "DescriptionStyleModel",
            "_view_count": null,
            "_view_module": "@jupyter-widgets/base",
            "_view_module_version": "1.2.0",
            "_view_name": "StyleView",
            "description_width": ""
          }
        }
      }
    }
  },
  "nbformat": 4,
  "nbformat_minor": 5
}